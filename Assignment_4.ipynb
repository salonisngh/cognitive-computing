{
  "nbformat": 4,
  "nbformat_minor": 0,
  "metadata": {
    "colab": {
      "provenance": [],
      "authorship_tag": "ABX9TyPA0xKsYh44o50taNU8W4FA",
      "include_colab_link": true
    },
    "kernelspec": {
      "name": "python3",
      "display_name": "Python 3"
    },
    "language_info": {
      "name": "python"
    }
  },
  "cells": [
    {
      "cell_type": "markdown",
      "metadata": {
        "id": "view-in-github",
        "colab_type": "text"
      },
      "source": [
        "<a href=\"https://colab.research.google.com/github/salonisngh/cognitive-computing/blob/main/Assignment_4.ipynb\" target=\"_parent\"><img src=\"https://colab.research.google.com/assets/colab-badge.svg\" alt=\"Open In Colab\"/></a>"
      ]
    },
    {
      "cell_type": "markdown",
      "source": [
        "Q.1 Write a program to create a NumPy 1D-array with 5 elements and perform basic\n",
        "operations like:\n",
        "\n",
        "a) Addition of 2 in all the element\n",
        "b) Multiply 3 with all the elements\n",
        "c) Divide every element by 2"
      ],
      "metadata": {
        "id": "KIvxrfgV9sKQ"
      }
    },
    {
      "cell_type": "code",
      "execution_count": null,
      "metadata": {
        "colab": {
          "base_uri": "https://localhost:8080/"
        },
        "id": "Gj0u87X4v3TL",
        "outputId": "b6ac44e6-8f51-4309-c4cf-9876c28a59df"
      },
      "outputs": [
        {
          "output_type": "stream",
          "name": "stdout",
          "text": [
            "[1 2 3 4 5]\n",
            "[3 4 5 6 7]\n",
            "[ 3  6  9 12 15]\n",
            "[0.5 1.  1.5 2.  2.5]\n"
          ]
        }
      ],
      "source": [
        "import numpy as np;\n",
        "arr=np.array([1,2,3,4,5]);\n",
        "\n",
        "print(arr+2);\n",
        "print(arr*3);\n",
        "print(arr/2);\n",
        "\n"
      ]
    },
    {
      "cell_type": "markdown",
      "source": [
        "Q.2 Questions on Basic NumPy Array:\n",
        "\n",
        "a) Reverse the NumPy array: arr = np.array([1, 2, 3, 6, 4, 5])\n"
      ],
      "metadata": {
        "id": "BewMjbrS_m88"
      }
    },
    {
      "cell_type": "code",
      "source": [
        "import numpy as np;\n",
        "arr=np.array([1,2,3,6,4,5])\n",
        "print ((arr[::-1]))"
      ],
      "metadata": {
        "colab": {
          "base_uri": "https://localhost:8080/"
        },
        "id": "tc6GATtG9qbr",
        "outputId": "8dd8ff43-ce08-4676-c701-a1010f682ec1"
      },
      "execution_count": null,
      "outputs": [
        {
          "output_type": "stream",
          "name": "stdout",
          "text": [
            "[5 4 6 3 2 1]\n"
          ]
        }
      ]
    },
    {
      "cell_type": "markdown",
      "source": [
        "b) Find the most frequent value and their indice(s) in the following arrays:\n",
        "\n",
        "i. x = np.array([1,2,3,4,5,1,2,1,1,1])\n",
        "\n",
        "ii. y = np.array([1, 1, 1, 2, 3, 4, 2, 4, 3, 3, ])"
      ],
      "metadata": {
        "id": "OlznLNDA9rDc"
      }
    },
    {
      "cell_type": "code",
      "source": [
        "import numpy as np;\n",
        "def most_frequent_with_indices(arr):\n",
        "    counts = np.bincount(arr)\n",
        "    max_count = np.max(counts)\n",
        "    most_frequent_values = np.where(counts == max_count)[0]\n",
        "    indices_dict = {value: np.where(arr == value)[0] for value in most_frequent_values}\n",
        "    return most_frequent_values, indices_dict\n",
        "\n",
        "x=np.array([1,2,3,4,5,1,2,1,1,1])\n",
        "y=np.array([1,1,1,2,3,4,2,4,3,3])\n",
        "frequent_x,indices_x= most_frequent_with_indices(x)\n",
        "frequent_y,indices_y= most_frequent_with_indices(y)\n",
        "print(f\"Most frequent in x: {frequent_x} at indice(s) {indices_x}\")\n",
        "print(f\"Most frequent in y: {frequent_y} at indice(s) {indices_y}\")\n",
        "\n"
      ],
      "metadata": {
        "colab": {
          "base_uri": "https://localhost:8080/"
        },
        "id": "n3N-sS6NGG8J",
        "outputId": "4b0d3c33-4e85-402b-f88d-e33af4648c95"
      },
      "execution_count": null,
      "outputs": [
        {
          "output_type": "stream",
          "name": "stdout",
          "text": [
            "Most frequent in x: [1] at indice(s) {1: array([0, 5, 7, 8, 9])}\n",
            "Most frequent in y: [1 3] at indice(s) {1: array([0, 1, 2]), 3: array([4, 8, 9])}\n"
          ]
        }
      ]
    },
    {
      "cell_type": "markdown",
      "source": [
        "Q.3 For the given 2-D array arr=np.array([10, 20, 30], [40, 50, 60], [70, 80, 90]), access\n",
        "elements using row and column indices as follows:\n",
        "\n",
        "a) Access 1st row, 2nd column\n",
        "\n",
        "b) Access 3rd row, 1st column"
      ],
      "metadata": {
        "id": "ysyIeCpRKbIQ"
      }
    },
    {
      "cell_type": "code",
      "source": [
        "import numpy as np;\n",
        "\n",
        "arr=np.array([[10, 20, 30], [40, 50, 60], [70, 80, 90]]);\n",
        "\n",
        "print(arr[0,1]);\n",
        "print(arr[2,0])"
      ],
      "metadata": {
        "colab": {
          "base_uri": "https://localhost:8080/"
        },
        "id": "2BI3BLfSMWzy",
        "outputId": "c349ed93-c7f8-4def-d098-b577d56402bd"
      },
      "execution_count": null,
      "outputs": [
        {
          "output_type": "stream",
          "name": "stdout",
          "text": [
            "20\n",
            "70\n"
          ]
        }
      ]
    },
    {
      "cell_type": "markdown",
      "source": [
        "Q.4 Write program to create an 1-D NumPy array named (Your Name) with evenly\n",
        "spaced 25 numbers from 10 to 100 using linspace(). Print the dimensions of the array,\n",
        "shape, total elements, the data type of each element and total number of bytes consumed\n",
        "by the array. Find the transpose of this array using reshape() attribute. Can we do the same\n",
        "with T attribute?"
      ],
      "metadata": {
        "id": "wXZm6SLCQ81O"
      }
    },
    {
      "cell_type": "code",
      "source": [
        "import numpy as np;\n",
        "\n",
        "singh= np.linspace(10,100,25);\n",
        "print(\"ARRAY: \", singh)\n",
        "print(\"DIMENSION: \", singh.ndim)\n",
        "print( \"SHAPE: \", singh.shape)\n",
        "print(\"TOTAL ELEMENTS: \", singh.size)\n",
        "print(\"DATA TYPE:\", singh.dtype)\n",
        "print(\"TOTAL NO. OF BYTES:\", singh.nbytes)\n",
        "\n",
        "\n",
        "TransposeR=singh.reshape(25,1)\n",
        "print(\"Using reshape, Transpose: \")\n",
        "print(TransposeR)\n",
        "\n",
        "TransposeT=singh.T\n",
        "print(\"Using T attribute, Transpose: \")\n",
        "print(TransposeT)\n",
        "\n",
        "print(\"Conclusion: No we Can't use T attribute.\")"
      ],
      "metadata": {
        "colab": {
          "base_uri": "https://localhost:8080/"
        },
        "id": "Qw0u9X4XQ_Fr",
        "outputId": "bfec01fe-b572-43c1-a27c-f6f7453b3ea8"
      },
      "execution_count": null,
      "outputs": [
        {
          "output_type": "stream",
          "name": "stdout",
          "text": [
            "ARRAY:  [ 10.    13.75  17.5   21.25  25.    28.75  32.5   36.25  40.    43.75\n",
            "  47.5   51.25  55.    58.75  62.5   66.25  70.    73.75  77.5   81.25\n",
            "  85.    88.75  92.5   96.25 100.  ]\n",
            "DIMENSION:  1\n",
            "SHAPE:  (25,)\n",
            "TOTAL ELEMENTS:  25\n",
            "DATA TYPE: float64\n",
            "TOTAL NO. OF BYTES: 200\n",
            "Using reshape, Transpose: \n",
            "[[ 10.  ]\n",
            " [ 13.75]\n",
            " [ 17.5 ]\n",
            " [ 21.25]\n",
            " [ 25.  ]\n",
            " [ 28.75]\n",
            " [ 32.5 ]\n",
            " [ 36.25]\n",
            " [ 40.  ]\n",
            " [ 43.75]\n",
            " [ 47.5 ]\n",
            " [ 51.25]\n",
            " [ 55.  ]\n",
            " [ 58.75]\n",
            " [ 62.5 ]\n",
            " [ 66.25]\n",
            " [ 70.  ]\n",
            " [ 73.75]\n",
            " [ 77.5 ]\n",
            " [ 81.25]\n",
            " [ 85.  ]\n",
            " [ 88.75]\n",
            " [ 92.5 ]\n",
            " [ 96.25]\n",
            " [100.  ]]\n",
            "Using T attribute, Transpose: \n",
            "[ 10.    13.75  17.5   21.25  25.    28.75  32.5   36.25  40.    43.75\n",
            "  47.5   51.25  55.    58.75  62.5   66.25  70.    73.75  77.5   81.25\n",
            "  85.    88.75  92.5   96.25 100.  ]\n",
            "Conclusion: No we Can't use T attribute.\n"
          ]
        }
      ]
    },
    {
      "cell_type": "markdown",
      "source": [
        "Q5"
      ],
      "metadata": {
        "id": "NPDOH-egWifB"
      }
    },
    {
      "cell_type": "code",
      "source": [
        "import numpy as np;\n",
        "\n",
        "ucs420= np.array([[10,20,30,40],\n",
        "                  [50,60,70,80],\n",
        "                  [90,15,20,35]])\n",
        "print(f\"Orginal:\\n{ucs420}\")\n",
        "print(\"mean: \",np.mean(ucs420))\n",
        "print(\"median: \",np.median(ucs420))\n",
        "print(\"max: \",np.max(ucs420))\n",
        "print(\"min: \",np.min(ucs420))\n",
        "print(\"unique elements: \",np.unique(ucs420))\n",
        "\n",
        "reshaped_ucs420= ucs420.reshape(4,3)\n",
        "print(f\"Reshaped:\\n{reshaped_ucs420}\")\n",
        "resized_ucs420 = np.resize(ucs420,(2,3))\n",
        "print(f\"Resized:\\n{resized_ucs420}\")\n",
        ""
      ],
      "metadata": {
        "id": "yxKvNtNTWmyX",
        "colab": {
          "base_uri": "https://localhost:8080/"
        },
        "outputId": "db01cc86-da0e-4c2e-f47b-280a9796c300"
      },
      "execution_count": 2,
      "outputs": [
        {
          "output_type": "stream",
          "name": "stdout",
          "text": [
            "Orginal:\n",
            "[[10 20 30 40]\n",
            " [50 60 70 80]\n",
            " [90 15 20 35]]\n",
            "mean:  43.333333333333336\n",
            "median:  37.5\n",
            "max:  90\n",
            "min:  10\n",
            "unique elements:  [10 15 20 30 35 40 50 60 70 80 90]\n",
            "Reshaped:\n",
            "[[10 20 30]\n",
            " [40 50 60]\n",
            " [70 80 90]\n",
            " [15 20 35]]\n",
            "Resized:\n",
            "[[10 20 30]\n",
            " [40 50 60]]\n"
          ]
        }
      ]
    }
  ]
}