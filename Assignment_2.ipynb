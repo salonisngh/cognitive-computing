{
  "nbformat": 4,
  "nbformat_minor": 0,
  "metadata": {
    "colab": {
      "provenance": []
    },
    "kernelspec": {
      "name": "python3",
      "display_name": "Python 3"
    },
    "language_info": {
      "name": "python"
    }
  },
  "cells": [
    {
      "cell_type": "markdown",
      "source": [
        "1. Create a List L that is defined as= [10, 20, 30, 40, 50, 60, 70, 80].\n",
        "\n",
        "i. WAP to add 200 and 300 to L.\n",
        "\n",
        "ii. WAP to remove 10 and 30 from L.\n",
        "\n",
        "iii. WAP to sort L in ascending order.\n",
        "\n",
        "iv. WAP to sort L in descending order."
      ],
      "metadata": {
        "id": "gFcOj1AeI3MK"
      }
    },
    {
      "cell_type": "code",
      "source": [
        "L = [10, 20, 30, 40, 50, 60, 70, 80]\n",
        "\n",
        "#(i)\n",
        "L.append(200)\n",
        "L.append(300)\n",
        "print(L)\n",
        "\n",
        "#(ii)\n",
        "L.remove(10)\n",
        "L.remove(30)\n",
        "print(L)\n",
        "\n",
        "#(iii)\n",
        "L.sort()\n",
        "print(L)\n",
        "\n",
        "#(iv)\n",
        "L.sort(reverse=True)\n",
        "print(L)"
      ],
      "metadata": {
        "colab": {
          "base_uri": "https://localhost:8080/"
        },
        "id": "Rh4DFpJxJA0x",
        "outputId": "536de87f-c027-430b-a532-495471411a62"
      },
      "execution_count": 1,
      "outputs": [
        {
          "output_type": "stream",
          "name": "stdout",
          "text": [
            "[10, 20, 30, 40, 50, 60, 70, 80, 200, 300]\n",
            "[20, 40, 50, 60, 70, 80, 200, 300]\n",
            "[20, 40, 50, 60, 70, 80, 200, 300]\n",
            "[300, 200, 80, 70, 60, 50, 40, 20]\n"
          ]
        }
      ]
    },
    {
      "cell_type": "markdown",
      "source": [
        "2. Create a tuple of marks scored as scores = (45, 89.5, 76, 45.4, 89, 92, 58, 45) and\n",
        "perform the following operations using tuple functions:\n",
        "\n",
        "i. Identify the highest score and its index in the tuple.\n",
        "\n",
        "ii. Find the lowest score and count how many times it appears.\n",
        "\n",
        "iii. Reverse the tuple and return it as a list.\n",
        "\n",
        "iv. Check if a specific score ‘76’ (input by the user) is present in the tuple and\n",
        "print its first occurrence index, or a message saying it’s not present.\n"
      ],
      "metadata": {
        "id": "tiunAv83KIBk"
      }
    },
    {
      "cell_type": "code",
      "source": [
        "scores = (45, 89.5, 76, 45.4, 89, 92, 58, 45)\n",
        "\n",
        "#(i)\n",
        "max = scores[0]\n",
        "index = 0\n",
        "for i in range(len(scores)):\n",
        "  if (scores[i] > max):\n",
        "    max = scores[i]\n",
        "    index = i\n",
        "\n",
        "print(f'Highest score is {max} and it is present at index {index}')\n",
        "\n",
        "#(ii)\n",
        "lowest = min(scores)\n",
        "count = scores.count(lowest)\n",
        "print(f'Lowest score is {lowest} and its count in {count}')\n",
        "\n",
        "#(iii)\n",
        "L = list(reversed(scores))\n",
        "print(f'Reversed tuple as list is {L}')\n",
        "\n",
        "#(iv)\n",
        "score = 76\n",
        "if score in scores:\n",
        "  idx = scores.index(score)\n",
        "  print(f'{score} is present in the tuple at index {idx}')\n",
        "else:\n",
        "  print(f'{score} is not present in the tuple')"
      ],
      "metadata": {
        "colab": {
          "base_uri": "https://localhost:8080/"
        },
        "id": "OKByCpxgKNsc",
        "outputId": "71778f1a-2355-43c0-e648-b5c313743f35"
      },
      "execution_count": 2,
      "outputs": [
        {
          "output_type": "stream",
          "name": "stdout",
          "text": [
            "Highest score is 92 and it is present at index 5\n",
            "Lowest score is 45 and its count in 2\n",
            "Reversed tuple as list is [45, 58, 92, 89, 45.4, 76, 89.5, 45]\n",
            "76 is present in the tuple at index 2\n"
          ]
        }
      ]
    },
    {
      "cell_type": "markdown",
      "source": [
        "WAP to create a list of 100 random numbers between 100 and 900. Count and print\n",
        "the:\n",
        "\n",
        "i. All odd numbers\n",
        "\n",
        "ii. All even numbers\n",
        "\n",
        "iii. All prime numbers"
      ],
      "metadata": {
        "id": "HoZ60aRSRPy6"
      }
    },
    {
      "cell_type": "code",
      "source": [
        "import random\n",
        "\n",
        "def isprime(num):\n",
        "  if (num <= 1):\n",
        "    return False\n",
        "  for i in range(2, num):\n",
        "    if (num % i == 0):\n",
        "      return False\n",
        "  return True\n",
        "\n",
        "#Generating random numbers\n",
        "numbers = []\n",
        "for i in range(100):\n",
        "  numbers.append(random.randint(100, 900))\n",
        "\n",
        "odd = []\n",
        "even = []\n",
        "prime = []\n",
        "\n",
        "#odd and even and prime\n",
        "for number in numbers:\n",
        "  if (number % 2 == 0):\n",
        "    even.append(number)\n",
        "  else:\n",
        "    odd.append(number)\n",
        "  if (isprime(number)):\n",
        "    prime.append(number)\n",
        "\n",
        "print(f'Odd numbers are {odd}')\n",
        "print(f'Even numbers are {even}')\n",
        "print(f'Prime numbers are {prime}')"
      ],
      "metadata": {
        "colab": {
          "base_uri": "https://localhost:8080/"
        },
        "id": "xy2tY3vjRVa_",
        "outputId": "fc75b29a-4394-4a08-fff2-a32c868295ac"
      },
      "execution_count": 3,
      "outputs": [
        {
          "output_type": "stream",
          "name": "stdout",
          "text": [
            "Odd numbers are [407, 383, 565, 809, 681, 103, 587, 555, 825, 459, 537, 169, 115, 673, 735, 477, 853, 145, 673, 789, 815, 493, 397, 313, 431, 333, 339, 663, 403, 555, 463, 533, 497, 343, 107, 379, 215, 857, 571, 441, 371, 111, 189, 695, 123, 879, 877, 449, 801, 727, 103, 269, 519, 549, 683, 599, 385, 575, 255, 291]\n",
            "Even numbers are [296, 216, 156, 364, 242, 358, 898, 806, 834, 426, 554, 170, 614, 250, 628, 170, 184, 488, 640, 776, 512, 810, 128, 456, 612, 226, 724, 528, 724, 808, 562, 172, 222, 112, 208, 618, 118, 786, 854, 646]\n",
            "Prime numbers are [383, 809, 103, 587, 673, 853, 673, 397, 313, 431, 463, 107, 379, 857, 571, 877, 449, 727, 103, 269, 683, 599]\n"
          ]
        }
      ]
    },
    {
      "cell_type": "markdown",
      "source": [
        "Consider the following two sets, A and B, represenƟng scores of two teams in mulƟple\n",
        "matches. A = {34, 56, 78, 90} and B = {78, 45, 90, 23}\n",
        "WAP to perform the following operaƟons using set funcƟons:\n",
        "\n",
        "i. Find the unique scores achieved by both teams (union of sets).\n",
        "\n",
        "ii. IdenƟfy the scores that are common to both teams (intersecƟon of sets).\n",
        "\n",
        "iii. Find the scores that are exclusive to each team (symmetric difference).\n",
        "\n",
        "iv. Check if the scores of team A are a subset of team B, and if team B's scores are\n",
        "a superset of team A.\n",
        "\n",
        "v. Remove a specific score 𝑋 (input by the user) from set A if it exists. If not, print\n",
        "a message saying it is not present."
      ],
      "metadata": {
        "id": "IWwAoT3IN9Dd"
      }
    },
    {
      "cell_type": "code",
      "source": [
        "A = {34, 56, 78, 90}\n",
        "B = {78, 45, 90, 23}\n",
        "\n",
        "#(i)\n",
        "print(f'Union of sets is {A | B}')\n",
        "\n",
        "#(ii)\n",
        "print(f'Intersection of sets is {A & B}')\n",
        "\n",
        "#(iii)\n",
        "print(f'Symmetric Difference is {A ^ B}')\n",
        "\n",
        "#(iv)\n",
        "subset = A.issubset(B)\n",
        "superset = A.issuperset(A)\n",
        "\n",
        "if (subset):\n",
        "  print('A is subset of B')\n",
        "else:\n",
        "  print('A is not subset of B')\n",
        "\n",
        "if (superset):\n",
        "  print('B is superset of A')\n",
        "else:\n",
        "  print('B is not superset of A')\n",
        "\n",
        "#(v)\n",
        "X = int(input('Enter a score to remove : '))\n",
        "if X in A:\n",
        "  A.remove(X)\n",
        "  print(f'{X} has been removed from set A')\n",
        "else:\n",
        "  print(f'{X} is not present in set A')"
      ],
      "metadata": {
        "colab": {
          "base_uri": "https://localhost:8080/"
        },
        "id": "BFYKV2Z7ODry",
        "outputId": "5e62c260-a8bf-45b8-e6be-1aae1b03cf80"
      },
      "execution_count": 4,
      "outputs": [
        {
          "output_type": "stream",
          "name": "stdout",
          "text": [
            "Union of sets is {34, 45, 78, 23, 56, 90}\n",
            "Intersection of sets is {90, 78}\n",
            "Symmetric Difference is {34, 45, 23, 56}\n",
            "A is not subset of B\n",
            "B is superset of A\n",
            "Enter a score to remove : 90\n",
            "90 has been removed from set A\n"
          ]
        }
      ]
    },
    {
      "cell_type": "markdown",
      "source": [
        "Write a program to rename a key city to a locaƟon in the following dicƟonary"
      ],
      "metadata": {
        "id": "4yf70mcBQQr6"
      }
    },
    {
      "cell_type": "code",
      "source": [
        "sample = {\n",
        "    \"name\" : \"Kelly\",\n",
        "    \"age\" : 21,\n",
        "    \"salary\" : 8000,\n",
        "    \"city\" : \"New York\"\n",
        "}\n",
        "\n",
        "sample['location'] = sample.pop('city')\n",
        "\n",
        "print(sample)"
      ],
      "metadata": {
        "colab": {
          "base_uri": "https://localhost:8080/"
        },
        "id": "qucD8ZClPHZj",
        "outputId": "830dfc70-469f-471e-c175-f31283150759"
      },
      "execution_count": 5,
      "outputs": [
        {
          "output_type": "stream",
          "name": "stdout",
          "text": [
            "{'name': 'Kelly', 'age': 21, 'salary': 8000, 'location': 'New York'}\n"
          ]
        }
      ]
    }
  ]
}