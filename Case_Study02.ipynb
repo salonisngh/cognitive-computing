{
  "nbformat": 4,
  "nbformat_minor": 0,
  "metadata": {
    "colab": {
      "provenance": [],
      "authorship_tag": "ABX9TyMZqBk4+K6CLNK0dKClV+z+",
      "include_colab_link": true
    },
    "kernelspec": {
      "name": "python3",
      "display_name": "Python 3"
    },
    "language_info": {
      "name": "python"
    }
  },
  "cells": [
    {
      "cell_type": "markdown",
      "metadata": {
        "id": "view-in-github",
        "colab_type": "text"
      },
      "source": [
        "<a href=\"https://colab.research.google.com/github/salonisngh/cognitive-computing/blob/main/Case_Study02.ipynb\" target=\"_parent\"><img src=\"https://colab.research.google.com/assets/colab-badge.svg\" alt=\"Open In Colab\"/></a>"
      ]
    },
    {
      "cell_type": "markdown",
      "source": [
        "# **Practice** **Case** **Study** – **Hospital** **Resource** **Optimization**\n",
        "\n",
        "**Scenario**:\n",
        " Youʼve been brought in by the administration of a large city hospital facing\n",
        "increasing strain on its departments. Theyʼve asked your team to audit resource\n",
        "usage, occupancy trends, and common complaints to help them optimize staff\n",
        "allocation and room turnover.\n",
        " Your task is to identify:\n",
        " Which departments are under stress (high occupancy + low staff)\n",
        " Where patient experience is suffering (based on complaint patterns)\n",
        " And what data-driven decisions can be made for the upcoming budget\n",
        "meeting\n",
        " The dataset provided contains a weekʼs worth of logs across all hospital wards,\n",
        "including:\n",
        " Daily occupancy metrics\n",
        " Complaint summaries\n",
        " Internal compliance tagging fields not to be analyzed unless mentioned"
      ],
      "metadata": {
        "id": "VfuLBg1sbKG1"
      }
    },
    {
      "cell_type": "markdown",
      "source": [
        "## **Pandas** - Ward-Level Occupancy Analysis"
      ],
      "metadata": {
        "id": "sgOHgbJqbXAk"
      }
    },
    {
      "cell_type": "markdown",
      "source": [
        "Load and inspect the data."
      ],
      "metadata": {
        "id": "FlJTu_o6bl9d"
      }
    },
    {
      "cell_type": "code",
      "execution_count": 1,
      "metadata": {
        "colab": {
          "base_uri": "https://localhost:8080/",
          "height": 487
        },
        "id": "wMSsmzD_ZopQ",
        "outputId": "b5537bcc-442d-4590-da86-e8a2a1e117c0"
      },
      "outputs": [
        {
          "output_type": "execute_result",
          "data": {
            "text/plain": [
              "         ward        day  bed_count  occupancy_rate  \\\n",
              "0   Maternity     Sunday         16            1.14   \n",
              "1  Pediatrics   Thursday         32            1.05   \n",
              "2   Maternity  Wednesday         16            0.83   \n",
              "3     General  Wednesday         16            0.58   \n",
              "4     General     Monday         22            1.02   \n",
              "\n",
              "                          issue_log  \\\n",
              "0      High patient inflow reported   \n",
              "1      High patient inflow reported   \n",
              "2      High patient inflow reported   \n",
              "3      High patient inflow reported   \n",
              "4  Nurse shift not covered properly   \n",
              "\n",
              "                                  complaints_summary ref_code  \n",
              "0  Suggest training much grow any me own true mag...     QXHH  \n",
              "1      Become show hand line for PM identify decade.     8CGD  \n",
              "2  Life deep present person forget teach environm...     I2PC  \n",
              "3  According less movement generation against rel...     X5ON  \n",
              "4               Shake identify yard stock to notice.     AQTM  "
            ],
            "text/html": [
              "\n",
              "  <div id=\"df-6ef1678d-92da-4f28-82f9-12aac6f1cf4d\" class=\"colab-df-container\">\n",
              "    <div>\n",
              "<style scoped>\n",
              "    .dataframe tbody tr th:only-of-type {\n",
              "        vertical-align: middle;\n",
              "    }\n",
              "\n",
              "    .dataframe tbody tr th {\n",
              "        vertical-align: top;\n",
              "    }\n",
              "\n",
              "    .dataframe thead th {\n",
              "        text-align: right;\n",
              "    }\n",
              "</style>\n",
              "<table border=\"1\" class=\"dataframe\">\n",
              "  <thead>\n",
              "    <tr style=\"text-align: right;\">\n",
              "      <th></th>\n",
              "      <th>ward</th>\n",
              "      <th>day</th>\n",
              "      <th>bed_count</th>\n",
              "      <th>occupancy_rate</th>\n",
              "      <th>issue_log</th>\n",
              "      <th>complaints_summary</th>\n",
              "      <th>ref_code</th>\n",
              "    </tr>\n",
              "  </thead>\n",
              "  <tbody>\n",
              "    <tr>\n",
              "      <th>0</th>\n",
              "      <td>Maternity</td>\n",
              "      <td>Sunday</td>\n",
              "      <td>16</td>\n",
              "      <td>1.14</td>\n",
              "      <td>High patient inflow reported</td>\n",
              "      <td>Suggest training much grow any me own true mag...</td>\n",
              "      <td>QXHH</td>\n",
              "    </tr>\n",
              "    <tr>\n",
              "      <th>1</th>\n",
              "      <td>Pediatrics</td>\n",
              "      <td>Thursday</td>\n",
              "      <td>32</td>\n",
              "      <td>1.05</td>\n",
              "      <td>High patient inflow reported</td>\n",
              "      <td>Become show hand line for PM identify decade.</td>\n",
              "      <td>8CGD</td>\n",
              "    </tr>\n",
              "    <tr>\n",
              "      <th>2</th>\n",
              "      <td>Maternity</td>\n",
              "      <td>Wednesday</td>\n",
              "      <td>16</td>\n",
              "      <td>0.83</td>\n",
              "      <td>High patient inflow reported</td>\n",
              "      <td>Life deep present person forget teach environm...</td>\n",
              "      <td>I2PC</td>\n",
              "    </tr>\n",
              "    <tr>\n",
              "      <th>3</th>\n",
              "      <td>General</td>\n",
              "      <td>Wednesday</td>\n",
              "      <td>16</td>\n",
              "      <td>0.58</td>\n",
              "      <td>High patient inflow reported</td>\n",
              "      <td>According less movement generation against rel...</td>\n",
              "      <td>X5ON</td>\n",
              "    </tr>\n",
              "    <tr>\n",
              "      <th>4</th>\n",
              "      <td>General</td>\n",
              "      <td>Monday</td>\n",
              "      <td>22</td>\n",
              "      <td>1.02</td>\n",
              "      <td>Nurse shift not covered properly</td>\n",
              "      <td>Shake identify yard stock to notice.</td>\n",
              "      <td>AQTM</td>\n",
              "    </tr>\n",
              "  </tbody>\n",
              "</table>\n",
              "</div>\n",
              "    <div class=\"colab-df-buttons\">\n",
              "\n",
              "  <div class=\"colab-df-container\">\n",
              "    <button class=\"colab-df-convert\" onclick=\"convertToInteractive('df-6ef1678d-92da-4f28-82f9-12aac6f1cf4d')\"\n",
              "            title=\"Convert this dataframe to an interactive table.\"\n",
              "            style=\"display:none;\">\n",
              "\n",
              "  <svg xmlns=\"http://www.w3.org/2000/svg\" height=\"24px\" viewBox=\"0 -960 960 960\">\n",
              "    <path d=\"M120-120v-720h720v720H120Zm60-500h600v-160H180v160Zm220 220h160v-160H400v160Zm0 220h160v-160H400v160ZM180-400h160v-160H180v160Zm440 0h160v-160H620v160ZM180-180h160v-160H180v160Zm440 0h160v-160H620v160Z\"/>\n",
              "  </svg>\n",
              "    </button>\n",
              "\n",
              "  <style>\n",
              "    .colab-df-container {\n",
              "      display:flex;\n",
              "      gap: 12px;\n",
              "    }\n",
              "\n",
              "    .colab-df-convert {\n",
              "      background-color: #E8F0FE;\n",
              "      border: none;\n",
              "      border-radius: 50%;\n",
              "      cursor: pointer;\n",
              "      display: none;\n",
              "      fill: #1967D2;\n",
              "      height: 32px;\n",
              "      padding: 0 0 0 0;\n",
              "      width: 32px;\n",
              "    }\n",
              "\n",
              "    .colab-df-convert:hover {\n",
              "      background-color: #E2EBFA;\n",
              "      box-shadow: 0px 1px 2px rgba(60, 64, 67, 0.3), 0px 1px 3px 1px rgba(60, 64, 67, 0.15);\n",
              "      fill: #174EA6;\n",
              "    }\n",
              "\n",
              "    .colab-df-buttons div {\n",
              "      margin-bottom: 4px;\n",
              "    }\n",
              "\n",
              "    [theme=dark] .colab-df-convert {\n",
              "      background-color: #3B4455;\n",
              "      fill: #D2E3FC;\n",
              "    }\n",
              "\n",
              "    [theme=dark] .colab-df-convert:hover {\n",
              "      background-color: #434B5C;\n",
              "      box-shadow: 0px 1px 3px 1px rgba(0, 0, 0, 0.15);\n",
              "      filter: drop-shadow(0px 1px 2px rgba(0, 0, 0, 0.3));\n",
              "      fill: #FFFFFF;\n",
              "    }\n",
              "  </style>\n",
              "\n",
              "    <script>\n",
              "      const buttonEl =\n",
              "        document.querySelector('#df-6ef1678d-92da-4f28-82f9-12aac6f1cf4d button.colab-df-convert');\n",
              "      buttonEl.style.display =\n",
              "        google.colab.kernel.accessAllowed ? 'block' : 'none';\n",
              "\n",
              "      async function convertToInteractive(key) {\n",
              "        const element = document.querySelector('#df-6ef1678d-92da-4f28-82f9-12aac6f1cf4d');\n",
              "        const dataTable =\n",
              "          await google.colab.kernel.invokeFunction('convertToInteractive',\n",
              "                                                    [key], {});\n",
              "        if (!dataTable) return;\n",
              "\n",
              "        const docLinkHtml = 'Like what you see? Visit the ' +\n",
              "          '<a target=\"_blank\" href=https://colab.research.google.com/notebooks/data_table.ipynb>data table notebook</a>'\n",
              "          + ' to learn more about interactive tables.';\n",
              "        element.innerHTML = '';\n",
              "        dataTable['output_type'] = 'display_data';\n",
              "        await google.colab.output.renderOutput(dataTable, element);\n",
              "        const docLink = document.createElement('div');\n",
              "        docLink.innerHTML = docLinkHtml;\n",
              "        element.appendChild(docLink);\n",
              "      }\n",
              "    </script>\n",
              "  </div>\n",
              "\n",
              "\n",
              "    <div id=\"df-33012429-c548-4377-bc28-89530e548e2d\">\n",
              "      <button class=\"colab-df-quickchart\" onclick=\"quickchart('df-33012429-c548-4377-bc28-89530e548e2d')\"\n",
              "                title=\"Suggest charts\"\n",
              "                style=\"display:none;\">\n",
              "\n",
              "<svg xmlns=\"http://www.w3.org/2000/svg\" height=\"24px\"viewBox=\"0 0 24 24\"\n",
              "     width=\"24px\">\n",
              "    <g>\n",
              "        <path d=\"M19 3H5c-1.1 0-2 .9-2 2v14c0 1.1.9 2 2 2h14c1.1 0 2-.9 2-2V5c0-1.1-.9-2-2-2zM9 17H7v-7h2v7zm4 0h-2V7h2v10zm4 0h-2v-4h2v4z\"/>\n",
              "    </g>\n",
              "</svg>\n",
              "      </button>\n",
              "\n",
              "<style>\n",
              "  .colab-df-quickchart {\n",
              "      --bg-color: #E8F0FE;\n",
              "      --fill-color: #1967D2;\n",
              "      --hover-bg-color: #E2EBFA;\n",
              "      --hover-fill-color: #174EA6;\n",
              "      --disabled-fill-color: #AAA;\n",
              "      --disabled-bg-color: #DDD;\n",
              "  }\n",
              "\n",
              "  [theme=dark] .colab-df-quickchart {\n",
              "      --bg-color: #3B4455;\n",
              "      --fill-color: #D2E3FC;\n",
              "      --hover-bg-color: #434B5C;\n",
              "      --hover-fill-color: #FFFFFF;\n",
              "      --disabled-bg-color: #3B4455;\n",
              "      --disabled-fill-color: #666;\n",
              "  }\n",
              "\n",
              "  .colab-df-quickchart {\n",
              "    background-color: var(--bg-color);\n",
              "    border: none;\n",
              "    border-radius: 50%;\n",
              "    cursor: pointer;\n",
              "    display: none;\n",
              "    fill: var(--fill-color);\n",
              "    height: 32px;\n",
              "    padding: 0;\n",
              "    width: 32px;\n",
              "  }\n",
              "\n",
              "  .colab-df-quickchart:hover {\n",
              "    background-color: var(--hover-bg-color);\n",
              "    box-shadow: 0 1px 2px rgba(60, 64, 67, 0.3), 0 1px 3px 1px rgba(60, 64, 67, 0.15);\n",
              "    fill: var(--button-hover-fill-color);\n",
              "  }\n",
              "\n",
              "  .colab-df-quickchart-complete:disabled,\n",
              "  .colab-df-quickchart-complete:disabled:hover {\n",
              "    background-color: var(--disabled-bg-color);\n",
              "    fill: var(--disabled-fill-color);\n",
              "    box-shadow: none;\n",
              "  }\n",
              "\n",
              "  .colab-df-spinner {\n",
              "    border: 2px solid var(--fill-color);\n",
              "    border-color: transparent;\n",
              "    border-bottom-color: var(--fill-color);\n",
              "    animation:\n",
              "      spin 1s steps(1) infinite;\n",
              "  }\n",
              "\n",
              "  @keyframes spin {\n",
              "    0% {\n",
              "      border-color: transparent;\n",
              "      border-bottom-color: var(--fill-color);\n",
              "      border-left-color: var(--fill-color);\n",
              "    }\n",
              "    20% {\n",
              "      border-color: transparent;\n",
              "      border-left-color: var(--fill-color);\n",
              "      border-top-color: var(--fill-color);\n",
              "    }\n",
              "    30% {\n",
              "      border-color: transparent;\n",
              "      border-left-color: var(--fill-color);\n",
              "      border-top-color: var(--fill-color);\n",
              "      border-right-color: var(--fill-color);\n",
              "    }\n",
              "    40% {\n",
              "      border-color: transparent;\n",
              "      border-right-color: var(--fill-color);\n",
              "      border-top-color: var(--fill-color);\n",
              "    }\n",
              "    60% {\n",
              "      border-color: transparent;\n",
              "      border-right-color: var(--fill-color);\n",
              "    }\n",
              "    80% {\n",
              "      border-color: transparent;\n",
              "      border-right-color: var(--fill-color);\n",
              "      border-bottom-color: var(--fill-color);\n",
              "    }\n",
              "    90% {\n",
              "      border-color: transparent;\n",
              "      border-bottom-color: var(--fill-color);\n",
              "    }\n",
              "  }\n",
              "</style>\n",
              "\n",
              "      <script>\n",
              "        async function quickchart(key) {\n",
              "          const quickchartButtonEl =\n",
              "            document.querySelector('#' + key + ' button');\n",
              "          quickchartButtonEl.disabled = true;  // To prevent multiple clicks.\n",
              "          quickchartButtonEl.classList.add('colab-df-spinner');\n",
              "          try {\n",
              "            const charts = await google.colab.kernel.invokeFunction(\n",
              "                'suggestCharts', [key], {});\n",
              "          } catch (error) {\n",
              "            console.error('Error during call to suggestCharts:', error);\n",
              "          }\n",
              "          quickchartButtonEl.classList.remove('colab-df-spinner');\n",
              "          quickchartButtonEl.classList.add('colab-df-quickchart-complete');\n",
              "        }\n",
              "        (() => {\n",
              "          let quickchartButtonEl =\n",
              "            document.querySelector('#df-33012429-c548-4377-bc28-89530e548e2d button');\n",
              "          quickchartButtonEl.style.display =\n",
              "            google.colab.kernel.accessAllowed ? 'block' : 'none';\n",
              "        })();\n",
              "      </script>\n",
              "    </div>\n",
              "\n",
              "    </div>\n",
              "  </div>\n"
            ],
            "application/vnd.google.colaboratory.intrinsic+json": {
              "type": "dataframe",
              "variable_name": "df",
              "summary": "{\n  \"name\": \"df\",\n  \"rows\": 20,\n  \"fields\": [\n    {\n      \"column\": \"ward\",\n      \"properties\": {\n        \"dtype\": \"category\",\n        \"num_unique_values\": 5,\n        \"samples\": [\n          \"Pediatrics\",\n          \"ICU\",\n          \"General\"\n        ],\n        \"semantic_type\": \"\",\n        \"description\": \"\"\n      }\n    },\n    {\n      \"column\": \"day\",\n      \"properties\": {\n        \"dtype\": \"category\",\n        \"num_unique_values\": 7,\n        \"samples\": [\n          \"Sunday\",\n          \"Thursday\",\n          \"Saturday\"\n        ],\n        \"semantic_type\": \"\",\n        \"description\": \"\"\n      }\n    },\n    {\n      \"column\": \"bed_count\",\n      \"properties\": {\n        \"dtype\": \"number\",\n        \"std\": 9,\n        \"min\": 13,\n        \"max\": 39,\n        \"num_unique_values\": 12,\n        \"samples\": [\n          13,\n          31,\n          16\n        ],\n        \"semantic_type\": \"\",\n        \"description\": \"\"\n      }\n    },\n    {\n      \"column\": \"occupancy_rate\",\n      \"properties\": {\n        \"dtype\": \"number\",\n        \"std\": 0.21455645803426782,\n        \"min\": 0.58,\n        \"max\": 1.2,\n        \"num_unique_values\": 19,\n        \"samples\": [\n          1.14,\n          0.75,\n          0.62\n        ],\n        \"semantic_type\": \"\",\n        \"description\": \"\"\n      }\n    },\n    {\n      \"column\": \"issue_log\",\n      \"properties\": {\n        \"dtype\": \"category\",\n        \"num_unique_values\": 7,\n        \"samples\": [\n          \"High patient inflow reported\",\n          \"Nurse shift not covered properly\",\n          \"Patient complained about long wait times\"\n        ],\n        \"semantic_type\": \"\",\n        \"description\": \"\"\n      }\n    },\n    {\n      \"column\": \"complaints_summary\",\n      \"properties\": {\n        \"dtype\": \"string\",\n        \"num_unique_values\": 20,\n        \"samples\": [\n          \"Suggest training much grow any me own true magazine situation forget just effort.\",\n          \"According ground popular mother wonder safe prepare common trouble.\",\n          \"Show west maintain source player along thank page building.\"\n        ],\n        \"semantic_type\": \"\",\n        \"description\": \"\"\n      }\n    },\n    {\n      \"column\": \"ref_code\",\n      \"properties\": {\n        \"dtype\": \"string\",\n        \"num_unique_values\": 20,\n        \"samples\": [\n          \"QXHH\",\n          \"91IU\",\n          \"NQXY\"\n        ],\n        \"semantic_type\": \"\",\n        \"description\": \"\"\n      }\n    }\n  ]\n}"
            }
          },
          "metadata": {},
          "execution_count": 1
        }
      ],
      "source": [
        "import pandas as pd\n",
        "df=pd.read_csv('/content/hospital_data.csv')\n",
        "df.to_csv('file.csv',index=False)\n",
        "\n",
        "df.head()"
      ]
    },
    {
      "cell_type": "markdown",
      "source": [
        " Find the average occupancy rate per ward."
      ],
      "metadata": {
        "id": "Mfr6oewuc8Jf"
      }
    },
    {
      "cell_type": "code",
      "source": [
        "df_grouped=df.groupby('ward')['occupancy_rate'].mean()\n",
        "df_grouped"
      ],
      "metadata": {
        "colab": {
          "base_uri": "https://localhost:8080/",
          "height": 272
        },
        "id": "r_eZRpg1c_AM",
        "outputId": "5c4dd089-798e-487e-9cfb-26a0e0248935"
      },
      "execution_count": 2,
      "outputs": [
        {
          "output_type": "execute_result",
          "data": {
            "text/plain": [
              "ward\n",
              "Emergency     0.7650\n",
              "General       0.8175\n",
              "ICU           0.6200\n",
              "Maternity     1.0920\n",
              "Pediatrics    0.8100\n",
              "Name: occupancy_rate, dtype: float64"
            ],
            "text/html": [
              "<div>\n",
              "<style scoped>\n",
              "    .dataframe tbody tr th:only-of-type {\n",
              "        vertical-align: middle;\n",
              "    }\n",
              "\n",
              "    .dataframe tbody tr th {\n",
              "        vertical-align: top;\n",
              "    }\n",
              "\n",
              "    .dataframe thead th {\n",
              "        text-align: right;\n",
              "    }\n",
              "</style>\n",
              "<table border=\"1\" class=\"dataframe\">\n",
              "  <thead>\n",
              "    <tr style=\"text-align: right;\">\n",
              "      <th></th>\n",
              "      <th>occupancy_rate</th>\n",
              "    </tr>\n",
              "    <tr>\n",
              "      <th>ward</th>\n",
              "      <th></th>\n",
              "    </tr>\n",
              "  </thead>\n",
              "  <tbody>\n",
              "    <tr>\n",
              "      <th>Emergency</th>\n",
              "      <td>0.7650</td>\n",
              "    </tr>\n",
              "    <tr>\n",
              "      <th>General</th>\n",
              "      <td>0.8175</td>\n",
              "    </tr>\n",
              "    <tr>\n",
              "      <th>ICU</th>\n",
              "      <td>0.6200</td>\n",
              "    </tr>\n",
              "    <tr>\n",
              "      <th>Maternity</th>\n",
              "      <td>1.0920</td>\n",
              "    </tr>\n",
              "    <tr>\n",
              "      <th>Pediatrics</th>\n",
              "      <td>0.8100</td>\n",
              "    </tr>\n",
              "  </tbody>\n",
              "</table>\n",
              "</div><br><label><b>dtype:</b> float64</label>"
            ]
          },
          "metadata": {},
          "execution_count": 2
        }
      ]
    },
    {
      "cell_type": "markdown",
      "source": [
        " Identify wards where occupancy exceeds 1.0 (overload) on average."
      ],
      "metadata": {
        "id": "z3p2ttYCeAFs"
      }
    },
    {
      "cell_type": "code",
      "source": [
        "overload = df_grouped > 1.0\n",
        "overload"
      ],
      "metadata": {
        "colab": {
          "base_uri": "https://localhost:8080/",
          "height": 272
        },
        "id": "iGWuPXfNeD5u",
        "outputId": "9a8347ff-4cbb-43cc-85ac-bd7f09a80746"
      },
      "execution_count": 3,
      "outputs": [
        {
          "output_type": "execute_result",
          "data": {
            "text/plain": [
              "ward\n",
              "Emergency     False\n",
              "General       False\n",
              "ICU           False\n",
              "Maternity      True\n",
              "Pediatrics    False\n",
              "Name: occupancy_rate, dtype: bool"
            ],
            "text/html": [
              "<div>\n",
              "<style scoped>\n",
              "    .dataframe tbody tr th:only-of-type {\n",
              "        vertical-align: middle;\n",
              "    }\n",
              "\n",
              "    .dataframe tbody tr th {\n",
              "        vertical-align: top;\n",
              "    }\n",
              "\n",
              "    .dataframe thead th {\n",
              "        text-align: right;\n",
              "    }\n",
              "</style>\n",
              "<table border=\"1\" class=\"dataframe\">\n",
              "  <thead>\n",
              "    <tr style=\"text-align: right;\">\n",
              "      <th></th>\n",
              "      <th>occupancy_rate</th>\n",
              "    </tr>\n",
              "    <tr>\n",
              "      <th>ward</th>\n",
              "      <th></th>\n",
              "    </tr>\n",
              "  </thead>\n",
              "  <tbody>\n",
              "    <tr>\n",
              "      <th>Emergency</th>\n",
              "      <td>False</td>\n",
              "    </tr>\n",
              "    <tr>\n",
              "      <th>General</th>\n",
              "      <td>False</td>\n",
              "    </tr>\n",
              "    <tr>\n",
              "      <th>ICU</th>\n",
              "      <td>False</td>\n",
              "    </tr>\n",
              "    <tr>\n",
              "      <th>Maternity</th>\n",
              "      <td>True</td>\n",
              "    </tr>\n",
              "    <tr>\n",
              "      <th>Pediatrics</th>\n",
              "      <td>False</td>\n",
              "    </tr>\n",
              "  </tbody>\n",
              "</table>\n",
              "</div><br><label><b>dtype:</b> bool</label>"
            ]
          },
          "metadata": {},
          "execution_count": 3
        }
      ]
    },
    {
      "cell_type": "markdown",
      "source": [
        "## **NumPy**- **Capacity** **Evaluation**"
      ],
      "metadata": {
        "id": "KFEdKyiWeRRr"
      }
    },
    {
      "cell_type": "markdown",
      "source": [
        " Extract\n",
        "occupancy_rate values using NumPy."
      ],
      "metadata": {
        "id": "E68TArRgeaGN"
      }
    },
    {
      "cell_type": "code",
      "source": [
        "import numpy as np\n",
        "occupancy = df['occupancy_rate'].to_numpy()\n"
      ],
      "metadata": {
        "id": "1Ucg9Q0QeQ2J"
      },
      "execution_count": 4,
      "outputs": []
    },
    {
      "cell_type": "markdown",
      "source": [
        "Calculate mean, standard deviation, and identify wards 2 std deviations\n",
        "above average (overburdened)"
      ],
      "metadata": {
        "id": "SmM9dWTUWzbq"
      }
    },
    {
      "cell_type": "code",
      "source": [
        "mean=np.mean(occupancy)\n",
        "sd= occupancy.std()\n",
        "print(mean,\" & \",sd)\n",
        "threshold=mean+2*sd\n",
        "critical = df[df['occupancy_rate']>threshold]\n",
        "print(critical[['ward', 'occupancy_rate']])"
      ],
      "metadata": {
        "colab": {
          "base_uri": "https://localhost:8080/"
        },
        "id": "wkE50Jd_W0nW",
        "outputId": "6355f82d-429f-43d0-cb12-365573c51b16"
      },
      "execution_count": 13,
      "outputs": [
        {
          "output_type": "stream",
          "name": "stdout",
          "text": [
            "0.8584999999999999  &  0.20912376718106435\n",
            "Empty DataFrame\n",
            "Columns: [ward, occupancy_rate]\n",
            "Index: []\n"
          ]
        }
      ]
    },
    {
      "cell_type": "markdown",
      "source": [
        "# **Matplotlib**- **Visualization**"
      ],
      "metadata": {
        "id": "HQQwG_j4Xof4"
      }
    },
    {
      "cell_type": "markdown",
      "source": [
        " Create a bar chart showing average occupancy rate per ward."
      ],
      "metadata": {
        "id": "7lYiHGf_Xu4v"
      }
    },
    {
      "cell_type": "code",
      "source": [
        "import matplotlib.pyplot as plt\n",
        "\n",
        "df_grouped.plot(kind='bar',title='AVG OCCUPANCY RATE PER WARD',xlabel='ward',ylabel='occupancy')\n",
        "plt.axhline(y=1.0,color='r',linestyle='--',label='overload Threshold')\n",
        "plt.legend()"
      ],
      "metadata": {
        "colab": {
          "base_uri": "https://localhost:8080/",
          "height": 553
        },
        "id": "AAMVqlK8XxPQ",
        "outputId": "363e61fe-c656-4cc7-f423-52c9fe394c95"
      },
      "execution_count": 19,
      "outputs": [
        {
          "output_type": "execute_result",
          "data": {
            "text/plain": [
              "<matplotlib.legend.Legend at 0x7b6f7c4a50d0>"
            ]
          },
          "metadata": {},
          "execution_count": 19
        },
        {
          "output_type": "display_data",
          "data": {
            "text/plain": [
              "<Figure size 640x480 with 1 Axes>"
            ],
            "image/png": "[encoded data removed]"
          },
          "metadata": {}
        }
      ]
    },
    {
      "cell_type": "markdown",
      "source": [
        "## **NLP** -**Complaint** **Analysis**"
      ],
      "metadata": {
        "id": "MWEczsE-ayZX"
      }
    },
    {
      "cell_type": "markdown",
      "source": [
        " Read the text file of complaint summaries"
      ],
      "metadata": {
        "id": "h5ZKvC7Sa8nO"
      }
    },
    {
      "cell_type": "code",
      "source": [
        "import nltk\n",
        "import re\n",
        "from nltk.corpus import stopwords\n",
        "from nltk.tokenize import word_tokenize\n",
        "from collections import Counter\n",
        "\n",
        "nltk.download('punkt')\n",
        "nltk.download('stopwords')\n",
        "nltk.download('punkt_tab')\n",
        "\n",
        "with open('incident_notes.txt') as f:\n",
        "  notes=f.read()\n"
      ],
      "metadata": {
        "colab": {
          "base_uri": "https://localhost:8080/"
        },
        "id": "08Nutp-Ba7-d",
        "outputId": "00c12423-62ad-4c2a-fb56-5d0b54cceb1c"
      },
      "execution_count": 24,
      "outputs": [
        {
          "output_type": "stream",
          "name": "stderr",
          "text": [
            "[nltk_data] Downloading package punkt to /root/nltk_data...\n",
            "[nltk_data]   Unzipping tokenizers/punkt.zip.\n",
            "[nltk_data] Downloading package stopwords to /root/nltk_data...\n",
            "[nltk_data]   Unzipping corpora/stopwords.zip.\n"
          ]
        }
      ]
    },
    {
      "cell_type": "markdown",
      "source": [
        "Clean the text (lowercase, punctuation removal, tokenization, stopword\n",
        "filtering)."
      ],
      "metadata": {
        "id": "XagBUglhkbL9"
      }
    },
    {
      "cell_type": "code",
      "source": [
        "\n",
        "tokens=word_tokenize(re.sub(r'[^\\w\\s]','',notes.lower()))\n",
        "stop_words=stopwords.words('english')\n",
        "filtered = [word for word in tokens if word not in stop_words]\n",
        "filtered"
      ],
      "metadata": {
        "colab": {
          "base_uri": "https://localhost:8080/"
        },
        "id": "L1L-Xxvikrg1",
        "outputId": "da5872c3-f1b4-456f-aa83-e21dabf0dd54"
      },
      "execution_count": 30,
      "outputs": [
        {
          "output_type": "execute_result",
          "data": {
            "text/plain": [
              "['agent',\n",
              " 'every',\n",
              " 'development',\n",
              " 'say',\n",
              " 'quality',\n",
              " 'throughout',\n",
              " 'beautiful',\n",
              " 'instead',\n",
              " 'behavior',\n",
              " 'discussion',\n",
              " 'night',\n",
              " 'respond',\n",
              " 'red',\n",
              " 'information',\n",
              " 'operation',\n",
              " 'speak',\n",
              " 'according',\n",
              " 'south',\n",
              " 'recently',\n",
              " 'future',\n",
              " 'choice',\n",
              " 'whatever',\n",
              " 'behavior',\n",
              " 'benefit',\n",
              " 'suggest',\n",
              " 'page',\n",
              " 'southern',\n",
              " 'movie',\n",
              " 'win',\n",
              " 'need',\n",
              " 'stop',\n",
              " 'peace',\n",
              " 'technology',\n",
              " 'officer',\n",
              " 'relate',\n",
              " 'animal',\n",
              " 'direction',\n",
              " 'eye',\n",
              " 'bag',\n",
              " 'law',\n",
              " 'street',\n",
              " 'class',\n",
              " 'great',\n",
              " 'prove',\n",
              " 'reduce',\n",
              " 'raise',\n",
              " 'participant',\n",
              " 'commercial',\n",
              " 'rock',\n",
              " 'clear',\n",
              " 'writer',\n",
              " 'policy',\n",
              " 'news',\n",
              " 'successful',\n",
              " 'simply',\n",
              " 'director',\n",
              " 'allow',\n",
              " 'firm',\n",
              " 'environment',\n",
              " 'decision',\n",
              " 'wall',\n",
              " 'fire',\n",
              " 'pretty',\n",
              " 'central',\n",
              " 'cause',\n",
              " 'seat',\n",
              " 'much',\n",
              " 'section',\n",
              " 'investment',\n",
              " 'gun',\n",
              " 'young',\n",
              " 'catch',\n",
              " 'management',\n",
              " 'sense',\n",
              " 'technology',\n",
              " 'check',\n",
              " 'society',\n",
              " 'instead',\n",
              " 'high',\n",
              " 'wife',\n",
              " 'team',\n",
              " 'activity',\n",
              " 'race',\n",
              " 'mr',\n",
              " 'environment',\n",
              " 'political',\n",
              " 'born',\n",
              " 'law',\n",
              " 'west',\n",
              " 'seven',\n",
              " 'medical',\n",
              " 'blood',\n",
              " 'personal',\n",
              " 'success',\n",
              " 'medical',\n",
              " 'current',\n",
              " 'hear',\n",
              " 'claim',\n",
              " 'well',\n",
              " 'truth',\n",
              " 'major',\n",
              " 'born',\n",
              " 'guy',\n",
              " 'world',\n",
              " 'southern',\n",
              " 'dream',\n",
              " 'drive',\n",
              " 'note',\n",
              " 'bad',\n",
              " 'rule',\n",
              " 'staff',\n",
              " 'within',\n",
              " 'mouth',\n",
              " 'campaign',\n",
              " 'little',\n",
              " 'near',\n",
              " 'enter',\n",
              " 'institution',\n",
              " 'deep',\n",
              " 'much',\n",
              " 'role',\n",
              " 'require',\n",
              " 'human',\n",
              " 'public',\n",
              " 'health',\n",
              " 'tonight',\n",
              " 'later',\n",
              " 'easy',\n",
              " 'ask',\n",
              " 'network',\n",
              " 'detail',\n",
              " 'audience',\n",
              " 'piece',\n",
              " 'director',\n",
              " 'town',\n",
              " 'teacher',\n",
              " 'audience',\n",
              " 'draw',\n",
              " 'protect',\n",
              " 'democrat',\n",
              " 'car',\n",
              " 'number',\n",
              " 'line',\n",
              " 'six',\n",
              " 'space',\n",
              " 'behind',\n",
              " 'probably',\n",
              " 'great',\n",
              " 'tell',\n",
              " 'approach',\n",
              " 'president',\n",
              " 'position',\n",
              " 'art',\n",
              " 'rock',\n",
              " 'eat',\n",
              " 'couple',\n",
              " 'large',\n",
              " 'instead',\n",
              " 'everything',\n",
              " 'economic',\n",
              " 'type',\n",
              " 'kitchen',\n",
              " 'better',\n",
              " 'present',\n",
              " 'music',\n",
              " 'address',\n",
              " 'behavior',\n",
              " 'send',\n",
              " 'door',\n",
              " 'image',\n",
              " 'loss',\n",
              " 'ten',\n",
              " 'total',\n",
              " 'clearly',\n",
              " 'able',\n",
              " 'hospital',\n",
              " 'unit',\n",
              " 'expect',\n",
              " 'recent',\n",
              " 'room',\n",
              " 'situation',\n",
              " 'product',\n",
              " 'main',\n",
              " 'couple',\n",
              " 'design',\n",
              " 'around',\n",
              " 'save',\n",
              " 'article',\n",
              " 'finish',\n",
              " 'anyone',\n",
              " 'live',\n",
              " 'church',\n",
              " 'whether',\n",
              " 'bag',\n",
              " 'control',\n",
              " 'organization',\n",
              " 'push',\n",
              " 'dog',\n",
              " 'build',\n",
              " 'three',\n",
              " 'east',\n",
              " 'organization',\n",
              " 'people',\n",
              " 'information',\n",
              " 'mission']"
            ]
          },
          "metadata": {},
          "execution_count": 30
        }
      ]
    },
    {
      "cell_type": "markdown",
      "source": [
        "Display the 5 most frequently mentioned complaint words"
      ],
      "metadata": {
        "id": "qDKQMPjIl2B7"
      }
    },
    {
      "cell_type": "code",
      "source": [
        "common_words=Counter(filtered).most_common(5)\n",
        "common_words"
      ],
      "metadata": {
        "colab": {
          "base_uri": "https://localhost:8080/"
        },
        "id": "4GAAvia_l4jS",
        "outputId": "b553a4b3-6e57-4cff-8c23-8fcfcf1dc09d"
      },
      "execution_count": 31,
      "outputs": [
        {
          "output_type": "execute_result",
          "data": {
            "text/plain": [
              "[('instead', 3),\n",
              " ('behavior', 3),\n",
              " ('information', 2),\n",
              " ('southern', 2),\n",
              " ('technology', 2)]"
            ]
          },
          "metadata": {},
          "execution_count": 31
        }
      ]
    }
  ]
}