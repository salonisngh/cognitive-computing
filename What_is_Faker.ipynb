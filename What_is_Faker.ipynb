{
  "cells": [
    {
      "cell_type": "markdown",
      "metadata": {
        "id": "view-in-github",
        "colab_type": "text"
      },
      "source": [
        "<a href=\"https://colab.research.google.com/github/salonisngh/cognitive-computing/blob/main/What_is_Faker.ipynb\" target=\"_parent\"><img src=\"https://colab.research.google.com/assets/colab-badge.svg\" alt=\"Open In Colab\"/></a>"
      ]
    },
    {
      "cell_type": "markdown",
      "metadata": {
        "id": "GCpwkAVJTLAc"
      },
      "source": [
        "#What is Faker?\n",
        "\n",
        "**Faker** is a Python library that helps you generate **realistic fake data**.\n",
        "\n",
        "Why use it?\n",
        "- For **testing code** when you don’t have real data\n",
        "- To practice **data analysis or machine learning**\n",
        "- To simulate **real-world scenarios** like customer data, logs, or sensor data\n",
        "\n",
        "Today, we’ll use it to simulate **urban traffic incident reports**.\n"
      ]
    },
    {
      "cell_type": "markdown",
      "metadata": {
        "id": "NsJ0nWm8TOSw"
      },
      "source": [
        "### Install and Import Faker\n",
        "\n",
        "Let’s install the Faker library and import it to our notebook.\n"
      ]
    },
    {
      "cell_type": "code",
      "source": [
        "# Install the Faker library to generate fake data\n",
        "!pip install faker\n",
        "\n",
        "# Import Faker for generating data\n",
        "from faker import Faker\n",
        "# Import pandas for handling tabular data\n",
        "import pandas as pd"
      ],
      "metadata": {
        "colab": {
          "base_uri": "https://localhost:8080/"
        },
        "id": "Tnl4Un86WgXy",
        "outputId": "376e56f6-9c41-403c-8159-a0f9fe7e151b"
      },
      "execution_count": null,
      "outputs": [
        {
          "output_type": "stream",
          "name": "stdout",
          "text": [
            "Requirement already satisfied: faker in /usr/local/lib/python3.11/dist-packages (37.1.0)\n",
            "Requirement already satisfied: tzdata in /usr/local/lib/python3.11/dist-packages (from faker) (2025.2)\n"
          ]
        }
      ]
    },
    {
      "cell_type": "markdown",
      "source": [
        "# Step 1: Initialize Faker\n",
        "\n",
        "We now create a Faker generator object to start producing fake data.\n"
      ],
      "metadata": {
        "id": "JAHy9D1fWrLj"
      }
    },
    {
      "cell_type": "code",
      "execution_count": null,
      "metadata": {
        "id": "nsAOdasyTM_H"
      },
      "outputs": [],
      "source": [
        "# Create a Faker instance\n",
        "# This object will allow us to generate fake cities, days, and sentences\n",
        "fake = Faker()"
      ]
    },
    {
      "cell_type": "markdown",
      "source": [
        "# Step 2: Generate Fake Traffic Data\n",
        "\n",
        "We'll create:\n",
        "- A random city or location\n",
        "- A day of the week\n",
        "- Vehicle count (random between 400 and 1200)\n",
        "- A random incident note from a traffic officer\n",
        "\n",
        "We’ll use this data for our case study.\n"
      ],
      "metadata": {
        "id": "ufWiOzxxWvMh"
      }
    },
    {
      "cell_type": "code",
      "execution_count": null,
      "metadata": {
        "id": "wFhO3ZLFT6qJ",
        "colab": {
          "base_uri": "https://localhost:8080/",
          "height": 206
        },
        "outputId": "ce9b5e4d-b792-4182-b0d2-f86383fec80f"
      },
      "outputs": [
        {
          "output_type": "execute_result",
          "data": {
            "text/plain": [
              "            location day_of_week  vehicle_count  \\\n",
              "0  South Brandonside    Saturday            605   \n",
              "1      Gravesborough    Thursday            783   \n",
              "2     Matthewchester     Tuesday            815   \n",
              "3          Rachelton   Wednesday           1073   \n",
              "4        Stevenburgh   Wednesday            638   \n",
              "\n",
              "                                       incident_note  \n",
              "0  Window wear service degree town pay treat clai...  \n",
              "1  Receive answer down two method person more sim...  \n",
              "2             Boy per money close edge once society.  \n",
              "3  Sure month camera its beat star lead heart res...  \n",
              "4  Because nothing particularly interview sit new...  "
            ],
            "text/html": [
              "\n",
              "  <div id=\"df-f8604a49-ff11-49cc-b778-7f1beae2e37f\" class=\"colab-df-container\">\n",
              "    <div>\n",
              "<style scoped>\n",
              "    .dataframe tbody tr th:only-of-type {\n",
              "        vertical-align: middle;\n",
              "    }\n",
              "\n",
              "    .dataframe tbody tr th {\n",
              "        vertical-align: top;\n",
              "    }\n",
              "\n",
              "    .dataframe thead th {\n",
              "        text-align: right;\n",
              "    }\n",
              "</style>\n",
              "<table border=\"1\" class=\"dataframe\">\n",
              "  <thead>\n",
              "    <tr style=\"text-align: right;\">\n",
              "      <th></th>\n",
              "      <th>location</th>\n",
              "      <th>day_of_week</th>\n",
              "      <th>vehicle_count</th>\n",
              "      <th>incident_note</th>\n",
              "    </tr>\n",
              "  </thead>\n",
              "  <tbody>\n",
              "    <tr>\n",
              "      <th>0</th>\n",
              "      <td>South Brandonside</td>\n",
              "      <td>Saturday</td>\n",
              "      <td>605</td>\n",
              "      <td>Window wear service degree town pay treat clai...</td>\n",
              "    </tr>\n",
              "    <tr>\n",
              "      <th>1</th>\n",
              "      <td>Gravesborough</td>\n",
              "      <td>Thursday</td>\n",
              "      <td>783</td>\n",
              "      <td>Receive answer down two method person more sim...</td>\n",
              "    </tr>\n",
              "    <tr>\n",
              "      <th>2</th>\n",
              "      <td>Matthewchester</td>\n",
              "      <td>Tuesday</td>\n",
              "      <td>815</td>\n",
              "      <td>Boy per money close edge once society.</td>\n",
              "    </tr>\n",
              "    <tr>\n",
              "      <th>3</th>\n",
              "      <td>Rachelton</td>\n",
              "      <td>Wednesday</td>\n",
              "      <td>1073</td>\n",
              "      <td>Sure month camera its beat star lead heart res...</td>\n",
              "    </tr>\n",
              "    <tr>\n",
              "      <th>4</th>\n",
              "      <td>Stevenburgh</td>\n",
              "      <td>Wednesday</td>\n",
              "      <td>638</td>\n",
              "      <td>Because nothing particularly interview sit new...</td>\n",
              "    </tr>\n",
              "  </tbody>\n",
              "</table>\n",
              "</div>\n",
              "    <div class=\"colab-df-buttons\">\n",
              "\n",
              "  <div class=\"colab-df-container\">\n",
              "    <button class=\"colab-df-convert\" onclick=\"convertToInteractive('df-f8604a49-ff11-49cc-b778-7f1beae2e37f')\"\n",
              "            title=\"Convert this dataframe to an interactive table.\"\n",
              "            style=\"display:none;\">\n",
              "\n",
              "  <svg xmlns=\"http://www.w3.org/2000/svg\" height=\"24px\" viewBox=\"0 -960 960 960\">\n",
              "    <path d=\"M120-120v-720h720v720H120Zm60-500h600v-160H180v160Zm220 220h160v-160H400v160Zm0 220h160v-160H400v160ZM180-400h160v-160H180v160Zm440 0h160v-160H620v160ZM180-180h160v-160H180v160Zm440 0h160v-160H620v160Z\"/>\n",
              "  </svg>\n",
              "    </button>\n",
              "\n",
              "  <style>\n",
              "    .colab-df-container {\n",
              "      display:flex;\n",
              "      gap: 12px;\n",
              "    }\n",
              "\n",
              "    .colab-df-convert {\n",
              "      background-color: #E8F0FE;\n",
              "      border: none;\n",
              "      border-radius: 50%;\n",
              "      cursor: pointer;\n",
              "      display: none;\n",
              "      fill: #1967D2;\n",
              "      height: 32px;\n",
              "      padding: 0 0 0 0;\n",
              "      width: 32px;\n",
              "    }\n",
              "\n",
              "    .colab-df-convert:hover {\n",
              "      background-color: #E2EBFA;\n",
              "      box-shadow: 0px 1px 2px rgba(60, 64, 67, 0.3), 0px 1px 3px 1px rgba(60, 64, 67, 0.15);\n",
              "      fill: #174EA6;\n",
              "    }\n",
              "\n",
              "    .colab-df-buttons div {\n",
              "      margin-bottom: 4px;\n",
              "    }\n",
              "\n",
              "    [theme=dark] .colab-df-convert {\n",
              "      background-color: #3B4455;\n",
              "      fill: #D2E3FC;\n",
              "    }\n",
              "\n",
              "    [theme=dark] .colab-df-convert:hover {\n",
              "      background-color: #434B5C;\n",
              "      box-shadow: 0px 1px 3px 1px rgba(0, 0, 0, 0.15);\n",
              "      filter: drop-shadow(0px 1px 2px rgba(0, 0, 0, 0.3));\n",
              "      fill: #FFFFFF;\n",
              "    }\n",
              "  </style>\n",
              "\n",
              "    <script>\n",
              "      const buttonEl =\n",
              "        document.querySelector('#df-f8604a49-ff11-49cc-b778-7f1beae2e37f button.colab-df-convert');\n",
              "      buttonEl.style.display =\n",
              "        google.colab.kernel.accessAllowed ? 'block' : 'none';\n",
              "\n",
              "      async function convertToInteractive(key) {\n",
              "        const element = document.querySelector('#df-f8604a49-ff11-49cc-b778-7f1beae2e37f');\n",
              "        const dataTable =\n",
              "          await google.colab.kernel.invokeFunction('convertToInteractive',\n",
              "                                                    [key], {});\n",
              "        if (!dataTable) return;\n",
              "\n",
              "        const docLinkHtml = 'Like what you see? Visit the ' +\n",
              "          '<a target=\"_blank\" href=https://colab.research.google.com/notebooks/data_table.ipynb>data table notebook</a>'\n",
              "          + ' to learn more about interactive tables.';\n",
              "        element.innerHTML = '';\n",
              "        dataTable['output_type'] = 'display_data';\n",
              "        await google.colab.output.renderOutput(dataTable, element);\n",
              "        const docLink = document.createElement('div');\n",
              "        docLink.innerHTML = docLinkHtml;\n",
              "        element.appendChild(docLink);\n",
              "      }\n",
              "    </script>\n",
              "  </div>\n",
              "\n",
              "\n",
              "<div id=\"df-8905fbf3-419d-41e1-98fe-0181d6f421f9\">\n",
              "  <button class=\"colab-df-quickchart\" onclick=\"quickchart('df-8905fbf3-419d-41e1-98fe-0181d6f421f9')\"\n",
              "            title=\"Suggest charts\"\n",
              "            style=\"display:none;\">\n",
              "\n",
              "<svg xmlns=\"http://www.w3.org/2000/svg\" height=\"24px\"viewBox=\"0 0 24 24\"\n",
              "     width=\"24px\">\n",
              "    <g>\n",
              "        <path d=\"M19 3H5c-1.1 0-2 .9-2 2v14c0 1.1.9 2 2 2h14c1.1 0 2-.9 2-2V5c0-1.1-.9-2-2-2zM9 17H7v-7h2v7zm4 0h-2V7h2v10zm4 0h-2v-4h2v4z\"/>\n",
              "    </g>\n",
              "</svg>\n",
              "  </button>\n",
              "\n",
              "<style>\n",
              "  .colab-df-quickchart {\n",
              "      --bg-color: #E8F0FE;\n",
              "      --fill-color: #1967D2;\n",
              "      --hover-bg-color: #E2EBFA;\n",
              "      --hover-fill-color: #174EA6;\n",
              "      --disabled-fill-color: #AAA;\n",
              "      --disabled-bg-color: #DDD;\n",
              "  }\n",
              "\n",
              "  [theme=dark] .colab-df-quickchart {\n",
              "      --bg-color: #3B4455;\n",
              "      --fill-color: #D2E3FC;\n",
              "      --hover-bg-color: #434B5C;\n",
              "      --hover-fill-color: #FFFFFF;\n",
              "      --disabled-bg-color: #3B4455;\n",
              "      --disabled-fill-color: #666;\n",
              "  }\n",
              "\n",
              "  .colab-df-quickchart {\n",
              "    background-color: var(--bg-color);\n",
              "    border: none;\n",
              "    border-radius: 50%;\n",
              "    cursor: pointer;\n",
              "    display: none;\n",
              "    fill: var(--fill-color);\n",
              "    height: 32px;\n",
              "    padding: 0;\n",
              "    width: 32px;\n",
              "  }\n",
              "\n",
              "  .colab-df-quickchart:hover {\n",
              "    background-color: var(--hover-bg-color);\n",
              "    box-shadow: 0 1px 2px rgba(60, 64, 67, 0.3), 0 1px 3px 1px rgba(60, 64, 67, 0.15);\n",
              "    fill: var(--button-hover-fill-color);\n",
              "  }\n",
              "\n",
              "  .colab-df-quickchart-complete:disabled,\n",
              "  .colab-df-quickchart-complete:disabled:hover {\n",
              "    background-color: var(--disabled-bg-color);\n",
              "    fill: var(--disabled-fill-color);\n",
              "    box-shadow: none;\n",
              "  }\n",
              "\n",
              "  .colab-df-spinner {\n",
              "    border: 2px solid var(--fill-color);\n",
              "    border-color: transparent;\n",
              "    border-bottom-color: var(--fill-color);\n",
              "    animation:\n",
              "      spin 1s steps(1) infinite;\n",
              "  }\n",
              "\n",
              "  @keyframes spin {\n",
              "    0% {\n",
              "      border-color: transparent;\n",
              "      border-bottom-color: var(--fill-color);\n",
              "      border-left-color: var(--fill-color);\n",
              "    }\n",
              "    20% {\n",
              "      border-color: transparent;\n",
              "      border-left-color: var(--fill-color);\n",
              "      border-top-color: var(--fill-color);\n",
              "    }\n",
              "    30% {\n",
              "      border-color: transparent;\n",
              "      border-left-color: var(--fill-color);\n",
              "      border-top-color: var(--fill-color);\n",
              "      border-right-color: var(--fill-color);\n",
              "    }\n",
              "    40% {\n",
              "      border-color: transparent;\n",
              "      border-right-color: var(--fill-color);\n",
              "      border-top-color: var(--fill-color);\n",
              "    }\n",
              "    60% {\n",
              "      border-color: transparent;\n",
              "      border-right-color: var(--fill-color);\n",
              "    }\n",
              "    80% {\n",
              "      border-color: transparent;\n",
              "      border-right-color: var(--fill-color);\n",
              "      border-bottom-color: var(--fill-color);\n",
              "    }\n",
              "    90% {\n",
              "      border-color: transparent;\n",
              "      border-bottom-color: var(--fill-color);\n",
              "    }\n",
              "  }\n",
              "</style>\n",
              "\n",
              "  <script>\n",
              "    async function quickchart(key) {\n",
              "      const quickchartButtonEl =\n",
              "        document.querySelector('#' + key + ' button');\n",
              "      quickchartButtonEl.disabled = true;  // To prevent multiple clicks.\n",
              "      quickchartButtonEl.classList.add('colab-df-spinner');\n",
              "      try {\n",
              "        const charts = await google.colab.kernel.invokeFunction(\n",
              "            'suggestCharts', [key], {});\n",
              "      } catch (error) {\n",
              "        console.error('Error during call to suggestCharts:', error);\n",
              "      }\n",
              "      quickchartButtonEl.classList.remove('colab-df-spinner');\n",
              "      quickchartButtonEl.classList.add('colab-df-quickchart-complete');\n",
              "    }\n",
              "    (() => {\n",
              "      let quickchartButtonEl =\n",
              "        document.querySelector('#df-8905fbf3-419d-41e1-98fe-0181d6f421f9 button');\n",
              "      quickchartButtonEl.style.display =\n",
              "        google.colab.kernel.accessAllowed ? 'block' : 'none';\n",
              "    })();\n",
              "  </script>\n",
              "</div>\n",
              "\n",
              "    </div>\n",
              "  </div>\n"
            ],
            "application/vnd.google.colaboratory.intrinsic+json": {
              "type": "dataframe",
              "variable_name": "df",
              "summary": "{\n  \"name\": \"df\",\n  \"rows\": 10,\n  \"fields\": [\n    {\n      \"column\": \"location\",\n      \"properties\": {\n        \"dtype\": \"string\",\n        \"num_unique_values\": 10,\n        \"samples\": [\n          \"Rebeccaborough\",\n          \"Gravesborough\",\n          \"Troyville\"\n        ],\n        \"semantic_type\": \"\",\n        \"description\": \"\"\n      }\n    },\n    {\n      \"column\": \"day_of_week\",\n      \"properties\": {\n        \"dtype\": \"string\",\n        \"num_unique_values\": 6,\n        \"samples\": [\n          \"Saturday\",\n          \"Thursday\",\n          \"Friday\"\n        ],\n        \"semantic_type\": \"\",\n        \"description\": \"\"\n      }\n    },\n    {\n      \"column\": \"vehicle_count\",\n      \"properties\": {\n        \"dtype\": \"number\",\n        \"std\": 217,\n        \"min\": 458,\n        \"max\": 1073,\n        \"num_unique_values\": 9,\n        \"samples\": [\n          1044,\n          783,\n          1008\n        ],\n        \"semantic_type\": \"\",\n        \"description\": \"\"\n      }\n    },\n    {\n      \"column\": \"incident_note\",\n      \"properties\": {\n        \"dtype\": \"string\",\n        \"num_unique_values\": 10,\n        \"samples\": [\n          \"Moment field suffer real suggest argue study air he lay consider order south feel still.\",\n          \"Receive answer down two method person more similar weight get financial work evidence vote.\",\n          \"Open feel smile notice some today she near feeling old energy I perform art south especially.\"\n        ],\n        \"semantic_type\": \"\",\n        \"description\": \"\"\n      }\n    }\n  ]\n}"
            }
          },
          "metadata": {},
          "execution_count": 3
        }
      ],
      "source": [
        "# Create a dictionary with fake traffic data\n",
        "data = {\n",
        "    # Generate 10 fake city names (could represent intersections)\n",
        "    \"location\": [fake.city() for _ in range(10)],\n",
        "    # Generate 10 random days of the week\n",
        "    \"day_of_week\": [fake.day_of_week() for _ in range(10)],\n",
        "    # Generate 10 vehicle counts between 400 and 1200\n",
        "    \"vehicle_count\": [fake.random_int(400, 1200) for _ in range(10)],\n",
        "    # Generate 10 fake incident sentences with about 12 words each\n",
        "    \"incident_note\": [fake.sentence(nb_words=12) for _ in range(10)]\n",
        "}\n",
        "\n",
        "# Convert this dictionary into a Pandas DataFrame\n",
        "df = pd.DataFrame(data)\n",
        "\n",
        "# Show the first few rows of the dataset\n",
        "df.head()"
      ]
    },
    {
      "cell_type": "markdown",
      "metadata": {
        "id": "Ka8TcG6uT8y0"
      },
      "source": [
        "# Step 3: Export Incident Reports for NLP\n",
        "\n",
        "We'll save the `incident_note` column to a text file.\n",
        "\n",
        "This will let us later:\n",
        "- Clean the text\n",
        "- Tokenize it\n",
        "- Extract important keywords (as we did in Assignment 9)\n"
      ]
    },
    {
      "cell_type": "code",
      "execution_count": null,
      "metadata": {
        "id": "l95vm5r9T9GD"
      },
      "outputs": [],
      "source": [
        "# Open a new text file to write incident notes\n",
        "with open(\"my_incident_notes.txt\", \"w\") as f:\n",
        "    # Write each note from the DataFrame to a new line in the file\n",
        "    for note in df[\"incident_note\"]:\n",
        "        f.write(note + \"\\n\")"
      ]
    },
    {
      "cell_type": "markdown",
      "source": [
        "# Step 4: Save Dataset for Pandas and Plotting\n",
        "\n",
        "Now we’ll export the full table to a `.csv` file. We'll use this later to:\n",
        "- Group by day\n",
        "- Analyze traffic\n",
        "- Plot results using Matplotlib\n"
      ],
      "metadata": {
        "id": "syXmYJVrXIFi"
      }
    },
    {
      "cell_type": "markdown",
      "metadata": {
        "id": "BpY_NSSPT_fV"
      },
      "source": []
    },
    {
      "cell_type": "code",
      "execution_count": null,
      "metadata": {
        "id": "5GToWnq1T-xw"
      },
      "outputs": [],
      "source": [
        "# Export the full dataset to a CSV file for use in other tools or tasks\n",
        "df.to_csv(\"my_traffic_data.csv\", index=False)"
      ]
    },
    {
      "cell_type": "markdown",
      "source": [
        "#  Text Cleaning with NLTK\n",
        "\n",
        "Let’s quickly see how we can process the `incident_notes.txt` file:\n",
        "\n",
        "- Convert to lowercase\n",
        "- Remove punctuation\n",
        "- Remove stopwords\n",
        "- Show top 5 frequent words\n",
        "\n",
        "We'll use this idea in our main question task.\n"
      ],
      "metadata": {
        "id": "f2ENjTUoXOT9"
      }
    },
    {
      "cell_type": "code",
      "execution_count": null,
      "metadata": {
        "id": "FMgfVnf0UDR2",
        "colab": {
          "base_uri": "https://localhost:8080/"
        },
        "outputId": "cd0c168c-8e88-44c6-9526-bb4c2b032f1e"
      },
      "outputs": [
        {
          "output_type": "stream",
          "name": "stderr",
          "text": [
            "[nltk_data] Downloading package punkt to /root/nltk_data...\n",
            "[nltk_data]   Unzipping tokenizers/punkt.zip.\n",
            "[nltk_data] Downloading package stopwords to /root/nltk_data...\n",
            "[nltk_data]   Unzipping corpora/stopwords.zip.\n",
            "[nltk_data] Downloading package punkt_tab to /root/nltk_data...\n",
            "[nltk_data]   Unzipping tokenizers/punkt_tab.zip.\n"
          ]
        },
        {
          "output_type": "execute_result",
          "data": {
            "text/plain": [
              "[('financial', 2), ('feel', 2), ('south', 2), ('window', 1), ('wear', 1)]"
            ]
          },
          "metadata": {},
          "execution_count": 6
        }
      ],
      "source": [
        "# Import the Natural Language Toolkit (NLTK) library\n",
        "import nltk\n",
        "# Download necessary language resources from NLTK\n",
        "nltk.download(\"punkt\")       # For tokenizing words\n",
        "nltk.download(\"stopwords\")   # For removing common words like \"the\", \"is\"\n",
        "nltk.download('punkt_tab')    # Optional, resolves some rare tokenizer issues\n",
        "\n",
        "# Import specific modules for tokenization and stopword handling\n",
        "from nltk.tokenize import word_tokenize\n",
        "from nltk.corpus import stopwords\n",
        "import string\n",
        "from collections import Counter\n",
        "\n",
        "# Read the incident notes text file\n",
        "with open(\"my_incident_notes.txt\", \"r\") as f:\n",
        "    text = f.read()\n",
        "\n",
        "# Convert the text to lowercase and tokenize into words\n",
        "tokens = word_tokenize(text.lower())\n",
        "\n",
        "# Remove punctuation and stopwords to get meaningful keywords\n",
        "clean_tokens = [\n",
        "    t for t in tokens\n",
        "    if t not in string.punctuation and t not in stopwords.words(\"english\")\n",
        "]\n",
        "\n",
        "# Count and display the 5 most common words\n",
        "Counter(clean_tokens).most_common(5)"
      ]
    }
  ],
  "metadata": {
    "colab": {
      "provenance": [],
      "include_colab_link": true
    },
    "kernelspec": {
      "display_name": "Python 3",
      "name": "python3"
    },
    "language_info": {
      "name": "python"
    }
  },
  "nbformat": 4,
  "nbformat_minor": 0
}