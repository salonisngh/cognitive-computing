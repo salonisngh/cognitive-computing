{
  "nbformat": 4,
  "nbformat_minor": 0,
  "metadata": {
    "colab": {
      "provenance": [],
      "authorship_tag": "ABX9TyN4mb1to+U8m83tBrpD9Wk+",
      "include_colab_link": true
    },
    "kernelspec": {
      "name": "python3",
      "display_name": "Python 3"
    },
    "language_info": {
      "name": "python"
    }
  },
  "cells": [
    {
      "cell_type": "markdown",
      "metadata": {
        "id": "view-in-github",
        "colab_type": "text"
      },
      "source": [
        "<a href=\"https://colab.research.google.com/github/salonisngh/cognitive-computing/blob/main/Assignment_01.ipynb\" target=\"_parent\"><img src=\"https://colab.research.google.com/assets/colab-badge.svg\" alt=\"Open In Colab\"/></a>"
      ]
    },
    {
      "cell_type": "markdown",
      "source": [
        "Q1.Write a Python program to print \"Anything You find cool.\"\n"
      ],
      "metadata": {
        "id": "be9XqZ-ng_eZ"
      }
    },
    {
      "cell_type": "code",
      "execution_count": null,
      "metadata": {
        "colab": {
          "base_uri": "https://localhost:8080/"
        },
        "id": "ilTMsNBwg3so",
        "outputId": "24e5db71-c33b-4e58-e26c-42479b3c4874"
      },
      "outputs": [
        {
          "output_type": "stream",
          "name": "stdout",
          "text": [
            "hello world\n"
          ]
        }
      ],
      "source": [
        "print(\"hello world\")"
      ]
    },
    {
      "cell_type": "markdown",
      "source": [
        "Q2. **Add Numbers and Concatenate Strings**\n",
        "\n",
        "2.1 Write a program to add two numbers and print the result.\n"
      ],
      "metadata": {
        "id": "Q8QYJ-fJg7yz"
      }
    },
    {
      "cell_type": "code",
      "source": [
        "a=3\n",
        "b=4\n",
        "print(a+b)"
      ],
      "metadata": {
        "colab": {
          "base_uri": "https://localhost:8080/"
        },
        "id": "GFxFTWLoiGVw",
        "outputId": "149050f4-c246-4aa3-bcf7-ff44ffab91dd"
      },
      "execution_count": null,
      "outputs": [
        {
          "output_type": "stream",
          "name": "stdout",
          "text": [
            "7\n"
          ]
        }
      ]
    },
    {
      "cell_type": "markdown",
      "source": [
        "2.2 Write a program to concatenate two strings and print the result."
      ],
      "metadata": {
        "id": "aqF6bIvVi4QL"
      }
    },
    {
      "cell_type": "code",
      "source": [
        "a=\"hello\"\n",
        "b=\" world\"\n",
        "print(a+b)"
      ],
      "metadata": {
        "colab": {
          "base_uri": "https://localhost:8080/"
        },
        "id": "X-lStMx_jAZR",
        "outputId": "a9cc68f6-63a8-4f26-c236-6dd9fc933727"
      },
      "execution_count": null,
      "outputs": [
        {
          "output_type": "stream",
          "name": "stdout",
          "text": [
            "helloworld\n"
          ]
        }
      ]
    },
    {
      "cell_type": "markdown",
      "source": [
        "\n",
        "2.3 Write a program to concatenate a string and a number and print the result."
      ],
      "metadata": {
        "id": "bcPQHftPjS79"
      }
    },
    {
      "cell_type": "code",
      "source": [
        "a=\"Race\"\n",
        "b=1\n",
        "print(a+str(b))"
      ],
      "metadata": {
        "colab": {
          "base_uri": "https://localhost:8080/"
        },
        "id": "Ro5eRqaZjW8R",
        "outputId": "5e601f53-3992-49c4-ecfb-3cdd5832146e"
      },
      "execution_count": null,
      "outputs": [
        {
          "output_type": "stream",
          "name": "stdout",
          "text": [
            "Race1\n"
          ]
        }
      ]
    },
    {
      "cell_type": "markdown",
      "source": [
        "Q3. If-Else Statements.\n",
        "\n",
        "3.1 Write a Python program to check if a number is positive, negative, or zero\n",
        "using an if-else *statement*"
      ],
      "metadata": {
        "id": "Q-pG8mPKjyI8"
      }
    },
    {
      "cell_type": "code",
      "source": [
        "num=1\n",
        "if num>0:\n",
        "  print(\"positive\")\n",
        "elif num<0:\n",
        "  print(\"negative\")\n",
        "else:\n",
        "  print(\"zero\")"
      ],
      "metadata": {
        "colab": {
          "base_uri": "https://localhost:8080/"
        },
        "id": "vexOAjXGkRv3",
        "outputId": "bdc7e062-fb17-4746-e5ff-c3abc19a2618"
      },
      "execution_count": null,
      "outputs": [
        {
          "output_type": "stream",
          "name": "stdout",
          "text": [
            "positive\n"
          ]
        }
      ]
    },
    {
      "cell_type": "markdown",
      "source": [
        "3.2 Write a program to check if a given number is odd or even.\n"
      ],
      "metadata": {
        "id": "zOmdAesgkQ7D"
      }
    },
    {
      "cell_type": "code",
      "source": [
        "num=2\n",
        "if num%2==0:\n",
        "  print(\"even\")\n",
        "else:\n",
        "  print(\"odd\")"
      ],
      "metadata": {
        "colab": {
          "base_uri": "https://localhost:8080/"
        },
        "id": "DxYHdVTiqclI",
        "outputId": "d4bd5e3d-1e05-4425-ad92-5b3f8d963add"
      },
      "execution_count": null,
      "outputs": [
        {
          "output_type": "stream",
          "name": "stdout",
          "text": [
            "even\n"
          ]
        }
      ]
    },
    {
      "cell_type": "markdown",
      "source": [
        "4.1 Write a program to print numbers from 1 to 10 using a for loop.\n"
      ],
      "metadata": {
        "id": "sypqHuQhqpe5"
      }
    },
    {
      "cell_type": "code",
      "source": [
        "for i in range(1,11):\n",
        "  print(i)"
      ],
      "metadata": {
        "colab": {
          "base_uri": "https://localhost:8080/"
        },
        "id": "eN-qHWOUqo3r",
        "outputId": "9d2b225c-fae7-46eb-b218-dfc69a76028e"
      },
      "execution_count": null,
      "outputs": [
        {
          "output_type": "stream",
          "name": "stdout",
          "text": [
            "1\n",
            "2\n",
            "3\n",
            "4\n",
            "5\n",
            "6\n",
            "7\n",
            "8\n",
            "9\n",
            "10\n"
          ]
        }
      ]
    },
    {
      "cell_type": "markdown",
      "source": [
        "4.2 Write a program to print numbers from 1 to 10 using a while loop.\n"
      ],
      "metadata": {
        "id": "4cLqmkgPq7iM"
      }
    },
    {
      "cell_type": "code",
      "source": [
        "i=1\n",
        "while i<11:\n",
        "  print(i)\n",
        "  i+=1"
      ],
      "metadata": {
        "colab": {
          "base_uri": "https://localhost:8080/"
        },
        "id": "RKbvZASUsk7q",
        "outputId": "625c2f9d-50d8-439d-d14d-626ef5832ee0"
      },
      "execution_count": null,
      "outputs": [
        {
          "output_type": "stream",
          "name": "stdout",
          "text": [
            "1\n",
            "2\n",
            "3\n",
            "4\n",
            "5\n",
            "6\n",
            "7\n",
            "8\n",
            "9\n",
            "10\n"
          ]
        }
      ]
    },
    {
      "cell_type": "markdown",
      "source": [
        "4.3 Write a program to calculate the sum of numbers from 1 to 100 using a loop"
      ],
      "metadata": {
        "id": "OVBzcW9Xs_pi"
      }
    },
    {
      "cell_type": "code",
      "source": [
        "sum=0\n",
        "for i in range(1,101):\n",
        "  sum+=i\n",
        "print(sum)"
      ],
      "metadata": {
        "colab": {
          "base_uri": "https://localhost:8080/"
        },
        "id": "ScNC4LhuswZ0",
        "outputId": "052ce6e1-4d81-4789-da4f-b423b9f97ff3"
      },
      "execution_count": null,
      "outputs": [
        {
          "output_type": "stream",
          "name": "stdout",
          "text": [
            "5050\n"
          ]
        }
      ]
    },
    {
      "cell_type": "markdown",
      "source": [
        "5.1 Create a list of 5 numbers. Write a program to find the largest and smallest\n",
        "numbers in the list."
      ],
      "metadata": {
        "id": "Emxr28JitDnR"
      }
    },
    {
      "cell_type": "code",
      "source": [
        "num=[1,2,3,4,6]\n",
        "max=num[0]\n",
        "min=num[0]\n",
        "for i in num:\n",
        "  if i>max:\n",
        "    max=i\n",
        "  if i<min:\n",
        "    min=i\n",
        "print(max)\n",
        "print(min)"
      ],
      "metadata": {
        "id": "UfGodzWGuZst"
      },
      "execution_count": null,
      "outputs": []
    },
    {
      "cell_type": "markdown",
      "source": [
        "5.2 Create a dictionary with at least 3 key-value pairs. Write a program to retrieve\n",
        "the value of a given key."
      ],
      "metadata": {
        "id": "l73ltam8ua-W"
      }
    },
    {
      "cell_type": "code",
      "source": [
        "dic={\"Name\":\"Saloni\",\n",
        "     \"RollNo\":21,\n",
        "     \"subject\":\"Cognitive Computing\"}\n",
        "\n",
        "print(dic['Name'])"
      ],
      "metadata": {
        "colab": {
          "base_uri": "https://localhost:8080/"
        },
        "id": "cVIZMGX3ugC2",
        "outputId": "00bb1dec-503e-4e69-a7f7-08454e63c987"
      },
      "execution_count": null,
      "outputs": [
        {
          "output_type": "stream",
          "name": "stdout",
          "text": [
            "Saloni\n"
          ]
        }
      ]
    },
    {
      "cell_type": "markdown",
      "source": [
        "5.3 Write a program to sort a list of numbers in ascending and descending order"
      ],
      "metadata": {
        "id": "k_BFv26TuidM"
      }
    },
    {
      "cell_type": "code",
      "source": [
        "num=[2,6,7,3,9,5]\n",
        "num.sort()\n",
        "print(num)\n",
        "num.reverse()\n",
        "print(num)"
      ],
      "metadata": {
        "colab": {
          "base_uri": "https://localhost:8080/"
        },
        "id": "y_yQp23cug0S",
        "outputId": "b6a81922-efef-433f-d83a-d4ddff3c255b"
      },
      "execution_count": null,
      "outputs": [
        {
          "output_type": "stream",
          "name": "stdout",
          "text": [
            "[2, 3, 5, 6, 7, 9]\n",
            "[9, 7, 6, 5, 3, 2]\n"
          ]
        }
      ]
    },
    {
      "cell_type": "markdown",
      "source": [
        "5.4 Write a program to merge two dictionaries into one.\n"
      ],
      "metadata": {
        "id": "5CJXBeSmugeR"
      }
    },
    {
      "cell_type": "code",
      "source": [],
      "metadata": {
        "id": "bS3gNC4JuvFG"
      },
      "execution_count": null,
      "outputs": []
    },
    {
      "cell_type": "markdown",
      "source": [
        "6.1 Write a program to count the number of vowels in a given string.\n"
      ],
      "metadata": {
        "id": "Iqx8cRqm3y9N"
      }
    },
    {
      "cell_type": "code",
      "source": [
        "s=\"cognitive computing\"\n",
        "count=0\n",
        "for x in s.lower():\n",
        "  if x=='a'or x=='e' or x=='o' or x=='u' or x=='i':\n",
        "    count=count+1\n",
        "print(count)"
      ],
      "metadata": {
        "colab": {
          "base_uri": "https://localhost:8080/"
        },
        "id": "JFdU69jo4BHl",
        "outputId": "8f65fdb8-b984-4d3b-f56d-58cad9877562"
      },
      "execution_count": null,
      "outputs": [
        {
          "output_type": "stream",
          "name": "stdout",
          "text": [
            "7\n"
          ]
        }
      ]
    },
    {
      "cell_type": "markdown",
      "source": [
        "6.2 Write a program to reverse a string and print it."
      ],
      "metadata": {
        "id": "lN0AW9Mn5FRH"
      }
    },
    {
      "cell_type": "code",
      "source": [
        "s=\"Python\"\n",
        "print(s[::-1])"
      ],
      "metadata": {
        "colab": {
          "base_uri": "https://localhost:8080/"
        },
        "id": "LclcuUZp5Fyj",
        "outputId": "ab9805db-9b3a-481a-cb46-dbb83224524f"
      },
      "execution_count": null,
      "outputs": [
        {
          "output_type": "stream",
          "name": "stdout",
          "text": [
            "nohtyP\n"
          ]
        }
      ]
    },
    {
      "cell_type": "markdown",
      "source": [
        "6.3 Write a program to check if a string is a palindrome.\n"
      ],
      "metadata": {
        "id": "bATyZKah6Anz"
      }
    },
    {
      "cell_type": "code",
      "source": [
        "s=\"meow\"\n",
        "r=s[::-1]\n",
        "if(s.lower()==r.lower()):\n",
        "  print(True)\n",
        "else:\n",
        "  print(False)"
      ],
      "metadata": {
        "colab": {
          "base_uri": "https://localhost:8080/"
        },
        "id": "B5jIkCtw6AZ6",
        "outputId": "628c2a08-7587-415d-f7b8-25e7799169bd"
      },
      "execution_count": null,
      "outputs": [
        {
          "output_type": "stream",
          "name": "stdout",
          "text": [
            "False\n"
          ]
        }
      ]
    },
    {
      "cell_type": "markdown",
      "source": [
        "7.1 Write a program to create a text file, write some text into it, and then read and\n",
        "print the content."
      ],
      "metadata": {
        "id": "O1RFgTu86hW8"
      }
    },
    {
      "cell_type": "code",
      "source": [
        "with open(\"Sample.txt\", \"w\") as file:\n",
        "  file.write('''hello world..my name is Saloni Singh..''')\n",
        "\n",
        "with open(\"Sample.txt\", \"r\") as file:\n",
        "  content = file.read()\n",
        "\n",
        "print(content)"
      ],
      "metadata": {
        "id": "bGyl38oX6hMB",
        "colab": {
          "base_uri": "https://localhost:8080/"
        },
        "outputId": "2c39cf89-76fe-4918-9bf5-9494b2cdbe7d"
      },
      "execution_count": 1,
      "outputs": [
        {
          "output_type": "stream",
          "name": "stdout",
          "text": [
            "hello world..my name is Saloni Singh..\n"
          ]
        }
      ]
    },
    {
      "cell_type": "markdown",
      "source": [
        "7.2 Write a program to append text to an existing file and print the updated content."
      ],
      "metadata": {
        "id": "p1_CwZxE7j8w"
      }
    },
    {
      "cell_type": "code",
      "source": [
        "with open(\"Sample.txt\", \"a\") as file:\n",
        "  file.write(\" I am learning coginitive computing.\")\n",
        "\n",
        "with open(\"Sample.txt\", \"r\") as file:\n",
        "  content = file.read()\n",
        "\n",
        "print(content)"
      ],
      "metadata": {
        "colab": {
          "base_uri": "https://localhost:8080/"
        },
        "id": "cg3IGdAB7koO",
        "outputId": "1c440edc-0224-481e-9e73-1db76cd389fb"
      },
      "execution_count": 4,
      "outputs": [
        {
          "output_type": "stream",
          "name": "stdout",
          "text": [
            "hello world..my name is Saloni Singh.. We are making Progress. I am engineers. I am learning coginitive computing.\n"
          ]
        }
      ]
    },
    {
      "cell_type": "markdown",
      "source": [
        "7.3 Write a program to count the number of lines in a text file."
      ],
      "metadata": {
        "id": "HhWj5XKc9TfY"
      }
    },
    {
      "cell_type": "code",
      "source": [
        "with open(\"Sample.txt\", \"r\") as file:\n",
        "  lines = file.readlines()\n",
        "\n",
        "print(len(lines))"
      ],
      "metadata": {
        "colab": {
          "base_uri": "https://localhost:8080/"
        },
        "id": "tv6jiMJg9Kk2",
        "outputId": "fe2a60c8-88f6-4982-b956-041437a788b5"
      },
      "execution_count": 6,
      "outputs": [
        {
          "output_type": "stream",
          "name": "stdout",
          "text": [
            "1\n"
          ]
        }
      ]
    },
    {
      "cell_type": "markdown",
      "source": [
        "8.1 Write a program to handle division by zero using a try-except block."
      ],
      "metadata": {
        "id": "BIW2gM_W9iv1"
      }
    },
    {
      "cell_type": "code",
      "source": [
        "try:\n",
        "  result = 10 / 0\n",
        "except ZeroDivisionError:\n",
        "  print(\"Division by zero not possible.\")"
      ],
      "metadata": {
        "colab": {
          "base_uri": "https://localhost:8080/"
        },
        "id": "ziQTxxwS9jSH",
        "outputId": "d5b8f742-14ad-4123-cafb-ed4f3b169801"
      },
      "execution_count": 8,
      "outputs": [
        {
          "output_type": "stream",
          "name": "stdout",
          "text": [
            "Division by zero not possible.\n"
          ]
        }
      ]
    },
    {
      "cell_type": "markdown",
      "source": [
        "8.2 Write a program to handle invalid input (e.g., when the user enters a stringinstead of a number)."
      ],
      "metadata": {
        "id": "xiAdLutY9tFz"
      }
    },
    {
      "cell_type": "code",
      "source": [
        "try:\n",
        "  num = int(input(\"Enter a number : \"))\n",
        "  print(num)\n",
        "except ValueError:\n",
        "  print(\"Invalid Input\")"
      ],
      "metadata": {
        "colab": {
          "base_uri": "https://localhost:8080/"
        },
        "id": "AYzxWgEa9tjO",
        "outputId": "77df0c7a-4ee2-4126-8bbb-c182e12f564e"
      },
      "execution_count": 7,
      "outputs": [
        {
          "output_type": "stream",
          "name": "stdout",
          "text": [
            "Enter a number : 7\n",
            "7\n"
          ]
        }
      ]
    },
    {
      "cell_type": "markdown",
      "source": [
        "8.3 Write a program to demonstrate the use of finally in exception handling."
      ],
      "metadata": {
        "id": "m3DKmdu_92Hd"
      }
    },
    {
      "cell_type": "code",
      "source": [
        "try:\n",
        "  result = 10 / 2\n",
        "finally:\n",
        "  print(\"This will always be executed.\")"
      ],
      "metadata": {
        "id": "DzzkwA5E975-"
      },
      "execution_count": null,
      "outputs": []
    },
    {
      "cell_type": "markdown",
      "source": [
        "9.1 Write a program to generate 5 random numbers between 1 and 100 and printthem."
      ],
      "metadata": {
        "id": "jCXZRymE98QX"
      }
    },
    {
      "cell_type": "code",
      "source": [
        "import random\n",
        "\n",
        "for el in range(5):\n",
        "  print(random.randint(1,100))"
      ],
      "metadata": {
        "colab": {
          "base_uri": "https://localhost:8080/"
        },
        "id": "bbaf45by-Aw2",
        "outputId": "6620d620-580e-45c0-8050-4f2afff21d1a"
      },
      "execution_count": 9,
      "outputs": [
        {
          "output_type": "stream",
          "name": "stdout",
          "text": [
            "77\n",
            "45\n",
            "56\n",
            "82\n",
            "61\n"
          ]
        }
      ]
    },
    {
      "cell_type": "markdown",
      "source": [
        "9.2 Write a program to generate a random number and check if it is prime."
      ],
      "metadata": {
        "id": "l27XYLPH-BGL"
      }
    },
    {
      "cell_type": "code",
      "source": [
        "import random\n",
        "\n",
        "num = random.randint(1, 100)\n",
        "flag = False\n",
        "\n",
        "for i in range(2, num):\n",
        "  if (num % i == 0):\n",
        "    flag = True\n",
        "    break\n",
        "\n",
        "if (flag == True):\n",
        "  print(\"Not Prime\")\n",
        "else:\n",
        "  print(\"Prime\")\n",
        "\n",
        "print(num)\n"
      ],
      "metadata": {
        "colab": {
          "base_uri": "https://localhost:8080/"
        },
        "id": "XPCvRqzm-G1O",
        "outputId": "c008ff85-9da9-4ab4-f309-988a9c40dcdb"
      },
      "execution_count": 11,
      "outputs": [
        {
          "output_type": "stream",
          "name": "stdout",
          "text": [
            "Not Prime\n",
            "95\n"
          ]
        }
      ]
    },
    {
      "cell_type": "markdown",
      "source": [
        "9.3 Write a program to simulate rolling a six-sided die."
      ],
      "metadata": {
        "id": "PApBKi8x-HgW"
      }
    },
    {
      "cell_type": "code",
      "source": [
        "import random\n",
        "\n",
        "print(random.randint(1, 6))"
      ],
      "metadata": {
        "colab": {
          "base_uri": "https://localhost:8080/"
        },
        "id": "73IgvJJ_-N2q",
        "outputId": "ca73529f-dee9-4001-cac4-80c8c110fece"
      },
      "execution_count": 10,
      "outputs": [
        {
          "output_type": "stream",
          "name": "stdout",
          "text": [
            "4\n"
          ]
        }
      ]
    },
    {
      "cell_type": "markdown",
      "source": [
        "9.4 Write a program to shuffle a list of numbers."
      ],
      "metadata": {
        "id": "OGd8-KGY-ONb"
      }
    },
    {
      "cell_type": "code",
      "source": [
        "import random\n",
        "\n",
        "numbers = [1, 2, 3, 4, 5, 6]\n",
        "random.shuffle(numbers)\n",
        "\n",
        "print(numbers)"
      ],
      "metadata": {
        "id": "Ug0SfTPu-Oqb"
      },
      "execution_count": null,
      "outputs": []
    },
    {
      "cell_type": "markdown",
      "source": [
        "9.5 Write a program to randomly select an item from a list."
      ],
      "metadata": {
        "id": "s_Z2aRhy-ajE"
      }
    },
    {
      "cell_type": "code",
      "source": [
        "import random\n",
        "\n",
        "rand = [\"A\", \"B\", \"C\", \"D\", \"E\"]\n",
        "\n",
        "rand = random.choice(rand)\n",
        "\n",
        "print(rand)"
      ],
      "metadata": {
        "colab": {
          "base_uri": "https://localhost:8080/"
        },
        "id": "5fzCQQT4-bH1",
        "outputId": "534c734f-fe1f-4032-f643-b616224bfd1f"
      },
      "execution_count": 12,
      "outputs": [
        {
          "output_type": "stream",
          "name": "stdout",
          "text": [
            "B\n"
          ]
        }
      ]
    },
    {
      "cell_type": "markdown",
      "source": [
        "9.6 Write a program to generate a random password of given length."
      ],
      "metadata": {
        "id": "byMnMnIo-flA"
      }
    },
    {
      "cell_type": "code",
      "source": [
        "import random\n",
        "\n",
        "length = 8\n",
        "password = ''.join(random.choices(\"abcdefghijklmnopqrstuvwxyzABCDEFGHIJKLMNOPQRSTUVWXYZ0123456789!@#$%^&*\", k = length))\n",
        "print(password)"
      ],
      "metadata": {
        "colab": {
          "base_uri": "https://localhost:8080/"
        },
        "id": "4KxvksRZ-gIl",
        "outputId": "dcee7311-72d7-4ec6-ee68-a91a75eb90bd"
      },
      "execution_count": 13,
      "outputs": [
        {
          "output_type": "stream",
          "name": "stdout",
          "text": [
            "lm$4hzZ0\n"
          ]
        }
      ]
    },
    {
      "cell_type": "markdown",
      "source": [
        "9.7 Write a program to pick a random card from a standard deck of 52 cards."
      ],
      "metadata": {
        "id": "vC_HkHFF-vOA"
      }
    },
    {
      "cell_type": "code",
      "source": [
        "import random\n",
        "\n",
        "suits = [\"Heart\", \"Spade\", \"Diamond\", \"Club\"]\n",
        "ranks = [\"1\", \"2\", \"3\", \"4\", \"5\", \"6\", \"7\", \"8\", \"9\", \"10\", \"Jack\", \"Queen\", \"King\", \"Ace\"]\n",
        "card = f'{random.choice(ranks)} of {random.choice(suits)}'\n",
        "print(card)"
      ],
      "metadata": {
        "colab": {
          "base_uri": "https://localhost:8080/"
        },
        "id": "1jWfSGBV-zoI",
        "outputId": "7cfc4177-4c83-4bfc-ec47-c840ef787a1a"
      },
      "execution_count": 14,
      "outputs": [
        {
          "output_type": "stream",
          "name": "stdout",
          "text": [
            "5 of Diamond\n"
          ]
        }
      ]
    },
    {
      "cell_type": "markdown",
      "source": [
        "10.1 Write a program to accept two numbers as command-line arguments, addthem, and print the result."
      ],
      "metadata": {
        "id": "K6D7vXka-0T_"
      }
    },
    {
      "cell_type": "code",
      "source": [
        "import sys\n",
        "\n",
        "if len(sys.argv) != 3:\n",
        "  print(\"Usage: python script_name.py <number1> <number2>\")\n",
        "  sys.exit(1)\n",
        "number1 = float(sys.argv[1])\n",
        "number2 = float(sys.argv[2])\n",
        "result = number1 + number2\n",
        "print(f'Sum of {number1} and {number2} is {result}')"
      ],
      "metadata": {
        "id": "dMy2hGYy-5Qq"
      },
      "execution_count": null,
      "outputs": []
    },
    {
      "cell_type": "markdown",
      "source": [
        "10.2 Write a program to accept a string as a command-line argument and print itslength."
      ],
      "metadata": {
        "id": "I1RLvHiP-54b"
      }
    },
    {
      "cell_type": "code",
      "source": [
        "import sys\n",
        "\n",
        "if (len(sys.argv) != 2):\n",
        "  print(\"Usage: pyhton script_name.py <string>\")\n",
        "  sys.exit(1)\n",
        "input_string = sys.argv[1]\n",
        "string_length = len(input_string)\n",
        "print(f\"The length of the string '{input_string}' is {string_length}\")"
      ],
      "metadata": {
        "collapsed": true,
        "id": "mZMW3mbp_Gih"
      },
      "execution_count": null,
      "outputs": []
    },
    {
      "cell_type": "markdown",
      "source": [
        "11.1 Write a program to use the math library to calculate the square root of a given\n",
        "number."
      ],
      "metadata": {
        "id": "ioI7rVbQ2jc_"
      }
    },
    {
      "cell_type": "code",
      "source": [
        "import math\n",
        "num=9\n",
        "print(math.sqrt(num))"
      ],
      "metadata": {
        "colab": {
          "base_uri": "https://localhost:8080/"
        },
        "id": "kofgyVlh2lCh",
        "outputId": "7b3d582e-5047-4de8-fd6b-1a7d1443775b"
      },
      "execution_count": null,
      "outputs": [
        {
          "output_type": "stream",
          "name": "stdout",
          "text": [
            "3.0\n"
          ]
        }
      ]
    },
    {
      "cell_type": "markdown",
      "source": [
        "11.2 Write a program to use the datetime library to print the current date and time."
      ],
      "metadata": {
        "id": "r2p0x2sR_Jvj"
      }
    },
    {
      "cell_type": "code",
      "source": [
        "import datetime\n",
        "\n",
        "print(datetime.datetime.now())"
      ],
      "metadata": {
        "colab": {
          "base_uri": "https://localhost:8080/"
        },
        "id": "te2nYboy_PFY",
        "outputId": "edabe537-1ea4-4f9d-b725-10500fa92504"
      },
      "execution_count": 17,
      "outputs": [
        {
          "output_type": "stream",
          "name": "stdout",
          "text": [
            "2025-01-16 12:12:23.648752\n"
          ]
        }
      ]
    },
    {
      "cell_type": "markdown",
      "source": [
        "11.3 Write a program to use the os library to list all files in the current directory."
      ],
      "metadata": {
        "id": "GcHcWGUf_Pi0"
      }
    },
    {
      "cell_type": "code",
      "source": [
        "import os\n",
        "\n",
        "print(os.listdir(\".\"))"
      ],
      "metadata": {
        "colab": {
          "base_uri": "https://localhost:8080/"
        },
        "id": "4NAQOeCP_SXY",
        "outputId": "95a3fb8f-126c-4530-f7cf-c5c08040f88b"
      },
      "execution_count": 18,
      "outputs": [
        {
          "output_type": "stream",
          "name": "stdout",
          "text": [
            "['.config', 'Sample.txt', 'sample_data']\n"
          ]
        }
      ]
    }
  ]
}